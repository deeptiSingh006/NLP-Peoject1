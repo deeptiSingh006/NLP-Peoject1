{
 "cells": [
  {
   "cell_type": "code",
   "execution_count": 75,
   "id": "623fde82",
   "metadata": {},
   "outputs": [],
   "source": [
    "#Part A - Q1 A - Clearly write outcome of data analysis(Minimum 2 points)"
   ]
  },
  {
   "cell_type": "code",
   "execution_count": 9,
   "id": "92043362",
   "metadata": {},
   "outputs": [
    {
     "data": {
      "text/plain": [
       "(681284, 7)"
      ]
     },
     "execution_count": 9,
     "metadata": {},
     "output_type": "execute_result"
    }
   ],
   "source": [
    "import pandas as pd\n",
    "import numpy as np\n",
    "import seaborn as sns\n",
    "import matplotlib.pyplot as plt\n",
    "%matplotlib inline\n",
    "\n",
    "blogs_df = pd.read_csv('./blogs.zip')\n",
    "blogs_df.shape"
   ]
  },
  {
   "cell_type": "code",
   "execution_count": 10,
   "id": "f39e1b3b",
   "metadata": {},
   "outputs": [],
   "source": [
    "#NOTE : There are a total of 681284 blogs to be analysed"
   ]
  },
  {
   "cell_type": "code",
   "execution_count": 11,
   "id": "b2f7764f",
   "metadata": {},
   "outputs": [
    {
     "data": {
      "text/html": [
       "<div>\n",
       "<style scoped>\n",
       "    .dataframe tbody tr th:only-of-type {\n",
       "        vertical-align: middle;\n",
       "    }\n",
       "\n",
       "    .dataframe tbody tr th {\n",
       "        vertical-align: top;\n",
       "    }\n",
       "\n",
       "    .dataframe thead th {\n",
       "        text-align: right;\n",
       "    }\n",
       "</style>\n",
       "<table border=\"1\" class=\"dataframe\">\n",
       "  <thead>\n",
       "    <tr style=\"text-align: right;\">\n",
       "      <th></th>\n",
       "      <th>id</th>\n",
       "      <th>gender</th>\n",
       "      <th>age</th>\n",
       "      <th>topic</th>\n",
       "      <th>sign</th>\n",
       "      <th>date</th>\n",
       "      <th>text</th>\n",
       "    </tr>\n",
       "  </thead>\n",
       "  <tbody>\n",
       "    <tr>\n",
       "      <th>83702</th>\n",
       "      <td>1739407</td>\n",
       "      <td>female</td>\n",
       "      <td>33</td>\n",
       "      <td>indUnk</td>\n",
       "      <td>Scorpio</td>\n",
       "      <td>30,July,2004</td>\n",
       "      <td>'As aliens detained by the military ...</td>\n",
       "    </tr>\n",
       "    <tr>\n",
       "      <th>38344</th>\n",
       "      <td>2663008</td>\n",
       "      <td>male</td>\n",
       "      <td>24</td>\n",
       "      <td>Non-Profit</td>\n",
       "      <td>Cancer</td>\n",
       "      <td>19,January,2004</td>\n",
       "      <td>This is a dream that I had on  11/1...</td>\n",
       "    </tr>\n",
       "    <tr>\n",
       "      <th>677869</th>\n",
       "      <td>3413707</td>\n",
       "      <td>male</td>\n",
       "      <td>15</td>\n",
       "      <td>Chemicals</td>\n",
       "      <td>Taurus</td>\n",
       "      <td>11,June,2004</td>\n",
       "      <td>I'M GOING TO A STYX AND PETER FRAMP...</td>\n",
       "    </tr>\n",
       "    <tr>\n",
       "      <th>540303</th>\n",
       "      <td>3581641</td>\n",
       "      <td>male</td>\n",
       "      <td>14</td>\n",
       "      <td>Student</td>\n",
       "      <td>Pisces</td>\n",
       "      <td>08,June,2004</td>\n",
       "      <td>urlLink    Here is a picture of my...</td>\n",
       "    </tr>\n",
       "    <tr>\n",
       "      <th>104792</th>\n",
       "      <td>3408861</td>\n",
       "      <td>male</td>\n",
       "      <td>15</td>\n",
       "      <td>indUnk</td>\n",
       "      <td>Aries</td>\n",
       "      <td>21,May,2004</td>\n",
       "      <td>WOw!!going out again todae??wad kind of...</td>\n",
       "    </tr>\n",
       "    <tr>\n",
       "      <th>243234</th>\n",
       "      <td>3606815</td>\n",
       "      <td>male</td>\n",
       "      <td>25</td>\n",
       "      <td>Government</td>\n",
       "      <td>Leo</td>\n",
       "      <td>25,June,2004</td>\n",
       "      <td></td>\n",
       "    </tr>\n",
       "    <tr>\n",
       "      <th>213649</th>\n",
       "      <td>3513784</td>\n",
       "      <td>female</td>\n",
       "      <td>23</td>\n",
       "      <td>Non-Profit</td>\n",
       "      <td>Aquarius</td>\n",
       "      <td>17,June,2004</td>\n",
       "      <td>... OR EVEN A SHITY WEEK?  I know t...</td>\n",
       "    </tr>\n",
       "    <tr>\n",
       "      <th>392010</th>\n",
       "      <td>1983674</td>\n",
       "      <td>male</td>\n",
       "      <td>25</td>\n",
       "      <td>indUnk</td>\n",
       "      <td>Scorpio</td>\n",
       "      <td>08,June,2004</td>\n",
       "      <td>I just want to share this with everyone...</td>\n",
       "    </tr>\n",
       "    <tr>\n",
       "      <th>196105</th>\n",
       "      <td>823780</td>\n",
       "      <td>male</td>\n",
       "      <td>17</td>\n",
       "      <td>Education</td>\n",
       "      <td>Scorpio</td>\n",
       "      <td>01,August,2004</td>\n",
       "      <td>urlLink   , 'This is still not a speci...</td>\n",
       "    </tr>\n",
       "    <tr>\n",
       "      <th>89897</th>\n",
       "      <td>1135804</td>\n",
       "      <td>male</td>\n",
       "      <td>33</td>\n",
       "      <td>indUnk</td>\n",
       "      <td>Libra</td>\n",
       "      <td>15,May,2003</td>\n",
       "      <td>spend some time with some other men fro...</td>\n",
       "    </tr>\n",
       "  </tbody>\n",
       "</table>\n",
       "</div>"
      ],
      "text/plain": [
       "             id  gender  age       topic      sign             date  \\\n",
       "83702   1739407  female   33      indUnk   Scorpio     30,July,2004   \n",
       "38344   2663008    male   24  Non-Profit    Cancer  19,January,2004   \n",
       "677869  3413707    male   15   Chemicals    Taurus     11,June,2004   \n",
       "540303  3581641    male   14     Student    Pisces     08,June,2004   \n",
       "104792  3408861    male   15      indUnk     Aries      21,May,2004   \n",
       "243234  3606815    male   25  Government       Leo     25,June,2004   \n",
       "213649  3513784  female   23  Non-Profit  Aquarius     17,June,2004   \n",
       "392010  1983674    male   25      indUnk   Scorpio     08,June,2004   \n",
       "196105   823780    male   17   Education   Scorpio   01,August,2004   \n",
       "89897   1135804    male   33      indUnk     Libra      15,May,2003   \n",
       "\n",
       "                                                     text  \n",
       "83702             'As aliens detained by the military ...  \n",
       "38344              This is a dream that I had on  11/1...  \n",
       "677869             I'M GOING TO A STYX AND PETER FRAMP...  \n",
       "540303              urlLink    Here is a picture of my...  \n",
       "104792         WOw!!going out again todae??wad kind of...  \n",
       "243234                                                     \n",
       "213649             ... OR EVEN A SHITY WEEK?  I know t...  \n",
       "392010         I just want to share this with everyone...  \n",
       "196105          urlLink   , 'This is still not a speci...  \n",
       "89897          spend some time with some other men fro...  "
      ]
     },
     "execution_count": 11,
     "metadata": {},
     "output_type": "execute_result"
    }
   ],
   "source": [
    "blogs_df.sample(n=10)"
   ]
  },
  {
   "cell_type": "code",
   "execution_count": 12,
   "id": "1e522c0f",
   "metadata": {},
   "outputs": [
    {
     "data": {
      "text/plain": [
       "id        0\n",
       "gender    0\n",
       "age       0\n",
       "topic     0\n",
       "sign      0\n",
       "date      0\n",
       "text      0\n",
       "dtype: int64"
      ]
     },
     "execution_count": 12,
     "metadata": {},
     "output_type": "execute_result"
    }
   ],
   "source": [
    "#Check if any column in null\n",
    "blogs_df.isnull().sum()"
   ]
  },
  {
   "cell_type": "code",
   "execution_count": 13,
   "id": "460ffad3",
   "metadata": {},
   "outputs": [],
   "source": [
    "#Note no columns are null"
   ]
  },
  {
   "cell_type": "code",
   "execution_count": 14,
   "id": "9dc3a935",
   "metadata": {},
   "outputs": [
    {
     "data": {
      "text/plain": [
       "<AxesSubplot:xlabel='gender', ylabel='count'>"
      ]
     },
     "execution_count": 14,
     "metadata": {},
     "output_type": "execute_result"
    },
    {
     "data": {
      "image/png": "[encoded data removed]",
      "text/plain": [
       "<Figure size 640x480 with 1 Axes>"
      ]
     },
     "metadata": {},
     "output_type": "display_data"
    }
   ],
   "source": [
    "#Validating if a particular gender has written higher blogs\n",
    "sns.countplot(x='gender', data=blogs_df)"
   ]
  },
  {
   "cell_type": "code",
   "execution_count": 15,
   "id": "e6cf534e",
   "metadata": {},
   "outputs": [],
   "source": [
    "#Almost same number of blogs written by male and female bloggers"
   ]
  },
  {
   "cell_type": "code",
   "execution_count": 16,
   "id": "eb25d13c",
   "metadata": {},
   "outputs": [
    {
     "name": "stderr",
     "output_type": "stream",
     "text": [
      "/var/folders/d1/cxdjwgp51f5d7gdfhsq3484h0000gn/T/ipykernel_684/3280365451.py:3: UserWarning: FixedFormatter should only be used together with FixedLocator\n",
      "  ax.set_xticklabels(ax.get_xticklabels(),rotation=30,ha=\"right\")\n"
     ]
    },
    {
     "data": {
      "image/png": "[encoded data removed]",
      "text/plain": [
       "<Figure size 2000x1000 with 1 Axes>"
      ]
     },
     "metadata": {},
     "output_type": "display_data"
    }
   ],
   "source": [
    "#Check if any sun sign writes higer number of plots\n",
    "fig, ax=plt.subplots(figsize=(20,10))\n",
    "ax.set_xticklabels(ax.get_xticklabels(),rotation=30,ha=\"right\")\n",
    "sns.countplot(data=blogs_df,x='sign',ax=ax)\n",
    "plt.show()"
   ]
  },
  {
   "cell_type": "code",
   "execution_count": 17,
   "id": "dfd7b4de",
   "metadata": {},
   "outputs": [],
   "source": [
    "# Aries and Cancer sun sing write higher number of blogs. Capricorn lowest number."
   ]
  },
  {
   "cell_type": "code",
   "execution_count": 18,
   "id": "d5182c7d",
   "metadata": {},
   "outputs": [
    {
     "name": "stderr",
     "output_type": "stream",
     "text": [
      "/var/folders/d1/cxdjwgp51f5d7gdfhsq3484h0000gn/T/ipykernel_684/3871707964.py:3: UserWarning: FixedFormatter should only be used together with FixedLocator\n",
      "  ax.set_xticklabels(ax.get_xticklabels(),rotation=30,ha=\"right\")\n"
     ]
    },
    {
     "data": {
      "image/png": "[encoded data removed]",
      "text/plain": [
       "<Figure size 1500x500 with 1 Axes>"
      ]
     },
     "metadata": {},
     "output_type": "display_data"
    }
   ],
   "source": [
    "#Checking which age group writes higher number of blogs\n",
    "fig, ax=plt.subplots(figsize=(15,5))\n",
    "ax.set_xticklabels(ax.get_xticklabels(),rotation=30,ha=\"right\")\n",
    "sns.countplot(data=blogs_df,x='age',ax=ax)\n",
    "plt.show()"
   ]
  },
  {
   "cell_type": "code",
   "execution_count": 19,
   "id": "eff2a485",
   "metadata": {},
   "outputs": [],
   "source": [
    "#Note: Maximum blogs written between age 16 to 25. With increase in age number of people writing blogs reduces."
   ]
  },
  {
   "cell_type": "code",
   "execution_count": 20,
   "id": "89d885bd",
   "metadata": {},
   "outputs": [
    {
     "name": "stderr",
     "output_type": "stream",
     "text": [
      "/var/folders/d1/cxdjwgp51f5d7gdfhsq3484h0000gn/T/ipykernel_684/2803572224.py:3: UserWarning: FixedFormatter should only be used together with FixedLocator\n",
      "  ax.set_xticklabels(ax.get_xticklabels(),rotation=30,ha=\"right\")\n"
     ]
    },
    {
     "data": {
      "image/png": "[encoded data removed]",
      "text/plain": [
       "<Figure size 1500x500 with 1 Axes>"
      ]
     },
     "metadata": {},
     "output_type": "display_data"
    }
   ],
   "source": [
    "#Check On which topic maximum blogs are written \n",
    "fig, ax=plt.subplots(figsize=(15,5))\n",
    "ax.set_xticklabels(ax.get_xticklabels(),rotation=30,ha=\"right\")\n",
    "sns.countplot(data=blogs_df,x='topic',ax=ax)\n",
    "plt.show()"
   ]
  },
  {
   "cell_type": "code",
   "execution_count": 21,
   "id": "dde8b0c9",
   "metadata": {},
   "outputs": [],
   "source": [
    "# Maximum blogs written on topic on indUnk"
   ]
  },
  {
   "cell_type": "code",
   "execution_count": 22,
   "id": "3a0c8b18",
   "metadata": {},
   "outputs": [],
   "source": [
    "# Part A - Q1 A - Clearly write outcome of data analysis(Minimum 2 points)\n",
    "    #1) Data set has 681284 blogs\n",
    "    #2) Almost equal number of blogs written by male and female bloggers\n",
    "    #3) Aries and Cancer sun sing write higher number of blogs. Capricorns write lowest number of blogs.\n",
    "    #4) Maximum blogs written between age 16 to 25. With increase in age number of people writing blogs reduces.\n",
    "    #5) Maximum blogs written on topic on indUnk"
   ]
  },
  {
   "cell_type": "code",
   "execution_count": 23,
   "id": "766389c2",
   "metadata": {},
   "outputs": [],
   "source": [
    "# Part A - Q1 A - Clean the Structured Data"
   ]
  },
  {
   "cell_type": "code",
   "execution_count": 24,
   "id": "fe0b46b2",
   "metadata": {},
   "outputs": [
    {
     "name": "stdout",
     "output_type": "stream",
     "text": [
      "<class 'pandas.core.frame.DataFrame'>\n",
      "RangeIndex: 681284 entries, 0 to 681283\n",
      "Data columns (total 7 columns):\n",
      " #   Column  Non-Null Count   Dtype \n",
      "---  ------  --------------   ----- \n",
      " 0   id      681284 non-null  int64 \n",
      " 1   gender  681284 non-null  object\n",
      " 2   age     681284 non-null  int64 \n",
      " 3   topic   681284 non-null  object\n",
      " 4   sign    681284 non-null  object\n",
      " 5   date    681284 non-null  object\n",
      " 6   text    681284 non-null  object\n",
      "dtypes: int64(2), object(5)\n",
      "memory usage: 36.4+ MB\n"
     ]
    }
   ],
   "source": [
    "blogs_df.info()"
   ]
  },
  {
   "cell_type": "code",
   "execution_count": 25,
   "id": "28ea2085",
   "metadata": {},
   "outputs": [],
   "source": [
    "# No Null values "
   ]
  },
  {
   "cell_type": "code",
   "execution_count": 26,
   "id": "65bf84bb",
   "metadata": {},
   "outputs": [
    {
     "name": "stdout",
     "output_type": "stream",
     "text": [
      "Requirement already satisfied: langdetect in /Users/macuser/opt/anaconda3/lib/python3.9/site-packages (1.0.9)\n",
      "Requirement already satisfied: six in /Users/macuser/opt/anaconda3/lib/python3.9/site-packages (from langdetect) (1.16.0)\n",
      "\n",
      "\u001b[1m[\u001b[0m\u001b[34;49mnotice\u001b[0m\u001b[1;39;49m]\u001b[0m\u001b[39;49m A new release of pip available: \u001b[0m\u001b[31;49m22.3.1\u001b[0m\u001b[39;49m -> \u001b[0m\u001b[32;49m23.0.1\u001b[0m\n",
      "\u001b[1m[\u001b[0m\u001b[34;49mnotice\u001b[0m\u001b[1;39;49m]\u001b[0m\u001b[39;49m To update, run: \u001b[0m\u001b[32;49mpip install --upgrade pip\u001b[0m\n"
     ]
    }
   ],
   "source": [
    "!pip install langdetect"
   ]
  },
  {
   "cell_type": "code",
   "execution_count": 27,
   "id": "6faf90d9",
   "metadata": {},
   "outputs": [],
   "source": [
    "#Consideing only 100000/681284 for analysis as system resources memory and cpu not enough to handle this data\n",
    "blogs_df = blogs_df.sample(n=100000)\n",
    "blogs_df.reset_index(inplace=True, drop=True)"
   ]
  },
  {
   "cell_type": "code",
   "execution_count": 28,
   "id": "2a3a023d",
   "metadata": {},
   "outputs": [],
   "source": [
    "from langdetect import detect\n",
    "\n",
    "def en_lang(text):\n",
    "    try:\n",
    "        return detect(text) == 'en'\n",
    "    except:\n",
    "        return False"
   ]
  },
  {
   "cell_type": "code",
   "execution_count": 29,
   "id": "c3af81d3",
   "metadata": {},
   "outputs": [],
   "source": [
    "blogs_df = blogs_df[blogs_df['text'].apply(en_lang)]"
   ]
  },
  {
   "cell_type": "code",
   "execution_count": 30,
   "id": "317b8a01",
   "metadata": {},
   "outputs": [
    {
     "data": {
      "text/plain": [
       "(95583, 7)"
      ]
     },
     "execution_count": 30,
     "metadata": {},
     "output_type": "execute_result"
    }
   ],
   "source": [
    "blogs_df.shape"
   ]
  },
  {
   "cell_type": "code",
   "execution_count": 31,
   "id": "46085396",
   "metadata": {},
   "outputs": [],
   "source": [
    "# Removed those rows that were not English. Out of 95691/10000 remained post English language tcheck. "
   ]
  },
  {
   "cell_type": "code",
   "execution_count": 32,
   "id": "5bbb1159",
   "metadata": {},
   "outputs": [],
   "source": [
    "#Part A - Q2 A - Eliminate All special Characters and Numbers"
   ]
  },
  {
   "cell_type": "code",
   "execution_count": 33,
   "id": "c3329ed8",
   "metadata": {},
   "outputs": [],
   "source": [
    "#If its not a upper or lower case alphabet replace it with space\n",
    "import re\n",
    "blogs_df['clean_text']=blogs_df['text'].apply(lambda x: re.sub(r'[^A-Za-z]+',' ',x))"
   ]
  },
  {
   "cell_type": "code",
   "execution_count": 34,
   "id": "d65500e6",
   "metadata": {},
   "outputs": [],
   "source": [
    "#Part A - Q2 B - Lowercase all textual data"
   ]
  },
  {
   "cell_type": "code",
   "execution_count": 35,
   "id": "da42e6b1",
   "metadata": {},
   "outputs": [],
   "source": [
    "blogs_df['clean_text']=blogs_df['clean_text'].apply(lambda x: x.lower())"
   ]
  },
  {
   "cell_type": "code",
   "execution_count": 36,
   "id": "c1890fef",
   "metadata": {},
   "outputs": [],
   "source": [
    "#Part A - Q2 C - Remove all Stopwords"
   ]
  },
  {
   "cell_type": "code",
   "execution_count": 37,
   "id": "1101cfa1",
   "metadata": {},
   "outputs": [
    {
     "name": "stdout",
     "output_type": "stream",
     "text": [
      "Requirement already satisfied: nltk in /Users/macuser/opt/anaconda3/lib/python3.9/site-packages (3.7)\n",
      "Requirement already satisfied: joblib in /Users/macuser/opt/anaconda3/lib/python3.9/site-packages (from nltk) (1.1.0)\n",
      "Requirement already satisfied: tqdm in /Users/macuser/opt/anaconda3/lib/python3.9/site-packages (from nltk) (4.64.1)\n",
      "Requirement already satisfied: click in /Users/macuser/opt/anaconda3/lib/python3.9/site-packages (from nltk) (8.0.4)\n",
      "Requirement already satisfied: regex>=2021.8.3 in /Users/macuser/opt/anaconda3/lib/python3.9/site-packages (from nltk) (2022.7.9)\n",
      "\n",
      "\u001b[1m[\u001b[0m\u001b[34;49mnotice\u001b[0m\u001b[1;39;49m]\u001b[0m\u001b[39;49m A new release of pip available: \u001b[0m\u001b[31;49m22.3.1\u001b[0m\u001b[39;49m -> \u001b[0m\u001b[32;49m23.0.1\u001b[0m\n",
      "\u001b[1m[\u001b[0m\u001b[34;49mnotice\u001b[0m\u001b[1;39;49m]\u001b[0m\u001b[39;49m To update, run: \u001b[0m\u001b[32;49mpip install --upgrade pip\u001b[0m\n"
     ]
    }
   ],
   "source": [
    "!pip install nltk"
   ]
  },
  {
   "cell_type": "code",
   "execution_count": 38,
   "id": "22000427",
   "metadata": {},
   "outputs": [
    {
     "name": "stderr",
     "output_type": "stream",
     "text": [
      "[nltk_data] Downloading package stopwords to\n",
      "[nltk_data]     /Users/macuser/nltk_data...\n",
      "[nltk_data]   Package stopwords is already up-to-date!\n"
     ]
    }
   ],
   "source": [
    "import nltk\n",
    "nltk.download('stopwords')\n",
    "from nltk.corpus import stopwords\n",
    "stopwords = set(stopwords.words('english'))\n",
    "blogs_df.text = blogs_df.text.apply(lambda x: ' '.join([word for word in x.split() if word not in stopwords]))"
   ]
  },
  {
   "cell_type": "code",
   "execution_count": 39,
   "id": "703abe46",
   "metadata": {},
   "outputs": [],
   "source": [
    "#Part A - Q3 A - Create dependent and independent variables"
   ]
  },
  {
   "cell_type": "code",
   "execution_count": 40,
   "id": "ccaed35a",
   "metadata": {},
   "outputs": [],
   "source": [
    "blogs_df = blogs_df[['text','topic']]\n",
    "X = blogs_df['text']\n",
    "y = blogs_df['topic']"
   ]
  },
  {
   "cell_type": "code",
   "execution_count": 41,
   "id": "3d35ed99",
   "metadata": {},
   "outputs": [
    {
     "data": {
      "text/plain": [
       "0        Things stopped now. More updates information b...\n",
       "1        Brought JPServicez.com: Smart bargain shopping...\n",
       "2        Brought JPServicez.com: Smart bargain shopping...\n",
       "3        First all, I say I tried run 30 minutes I woul...\n",
       "4        played doom 3 weekend dave's. hella-disappointed.\n",
       "                               ...                        \n",
       "99995    You know I thought... Paul probably calling co...\n",
       "99996    Went 2 camp today still nothing much happened....\n",
       "99997    Commercial Club Sounds good, night celebrate w...\n",
       "99998                 urlLink 4th outfit day&nbsp; urlLink\n",
       "99999    I returned quick trip beach friend Nikki. Each...\n",
       "Name: text, Length: 95583, dtype: object"
      ]
     },
     "execution_count": 41,
     "metadata": {},
     "output_type": "execute_result"
    }
   ],
   "source": [
    "X"
   ]
  },
  {
   "cell_type": "code",
   "execution_count": 42,
   "id": "cb6ce744",
   "metadata": {},
   "outputs": [
    {
     "data": {
      "text/plain": [
       "0                indUnk\n",
       "1        Transportation\n",
       "2        Transportation\n",
       "3            Technology\n",
       "4             Chemicals\n",
       "              ...      \n",
       "99995            indUnk\n",
       "99996           Student\n",
       "99997        Government\n",
       "99998            indUnk\n",
       "99999         Education\n",
       "Name: topic, Length: 95583, dtype: object"
      ]
     },
     "execution_count": 42,
     "metadata": {},
     "output_type": "execute_result"
    }
   ],
   "source": [
    "y"
   ]
  },
  {
   "cell_type": "code",
   "execution_count": 43,
   "id": "392f0227",
   "metadata": {},
   "outputs": [],
   "source": [
    "#Part A - Q3 B - Split data into train and test."
   ]
  },
  {
   "cell_type": "code",
   "execution_count": 44,
   "id": "7f6c672b",
   "metadata": {},
   "outputs": [],
   "source": [
    "from sklearn.model_selection import train_test_split\n",
    "X_train, X_test, y_train, y_test =train_test_split(X,y, random_state=11, test_size=0.2, stratify=y)"
   ]
  },
  {
   "cell_type": "code",
   "execution_count": 45,
   "id": "55bc7fa8",
   "metadata": {},
   "outputs": [
    {
     "name": "stdout",
     "output_type": "stream",
     "text": [
      "(76466,)\n",
      "(19117,)\n",
      "(76466,)\n",
      "(19117,)\n"
     ]
    }
   ],
   "source": [
    "print(X_train.shape)\n",
    "print(X_test.shape)\n",
    "print(y_train.shape)\n",
    "print(y_test.shape)"
   ]
  },
  {
   "cell_type": "code",
   "execution_count": 46,
   "id": "7f989cf7",
   "metadata": {},
   "outputs": [],
   "source": [
    "#Part A - Q3 C - Vectorize data using any one vectorizer."
   ]
  },
  {
   "cell_type": "code",
   "execution_count": 47,
   "id": "d2416ae8",
   "metadata": {},
   "outputs": [
    {
     "data": {
      "text/plain": [
       "(76466, 4484751)"
      ]
     },
     "execution_count": 47,
     "metadata": {},
     "output_type": "execute_result"
    }
   ],
   "source": [
    "from sklearn.feature_extraction.text import CountVectorizer\n",
    "\n",
    "vectorizer = CountVectorizer(binary=True, ngram_range=(1, 2))\n",
    "X_train_ct = vectorizer.fit_transform(X_train)\n",
    "X_train_ct.shape"
   ]
  },
  {
   "cell_type": "code",
   "execution_count": 48,
   "id": "8f069b6c",
   "metadata": {},
   "outputs": [
    {
     "data": {
      "text/plain": [
       "(19117, 4484751)"
      ]
     },
     "execution_count": 48,
     "metadata": {},
     "output_type": "execute_result"
    }
   ],
   "source": [
    "## Fit and transform on test data\n",
    "X_test_ct = vectorizer.transform(X_test)\n",
    "X_test_ct.shape"
   ]
  },
  {
   "cell_type": "code",
   "execution_count": 49,
   "id": "64056e82",
   "metadata": {},
   "outputs": [],
   "source": [
    "from sklearn.preprocessing import LabelEncoder\n",
    "labelencoder = LabelEncoder()\n",
    "labelencoder.fit(y_train)\n",
    "y_train = labelencoder.transform(y_train)"
   ]
  },
  {
   "cell_type": "code",
   "execution_count": 50,
   "id": "857e3f88",
   "metadata": {},
   "outputs": [],
   "source": [
    "y_test = labelencoder.transform(y_test)"
   ]
  },
  {
   "cell_type": "code",
   "execution_count": 51,
   "id": "fa124761",
   "metadata": {},
   "outputs": [],
   "source": [
    "#Part A - Q3 D - Build a base model for Supervised Learning - Classification."
   ]
  },
  {
   "cell_type": "code",
   "execution_count": 52,
   "id": "d3cfbbce",
   "metadata": {},
   "outputs": [
    {
     "name": "stderr",
     "output_type": "stream",
     "text": [
      "/Users/macuser/opt/anaconda3/lib/python3.9/site-packages/sklearn/svm/_base.py:1206: ConvergenceWarning: Liblinear failed to converge, increase the number of iterations.\n",
      "  warnings.warn(\n"
     ]
    },
    {
     "name": "stdout",
     "output_type": "stream",
     "text": [
      "Number of Features :  4484751\n",
      "Training Accuracy :  0.9858499202259828\n",
      "Testing Accuracy :  0.34168541089083015\n"
     ]
    }
   ],
   "source": [
    "######################  Building a LinearSVC ###################### \n",
    "from sklearn.svm import LinearSVC\n",
    "model = LinearSVC(C=1.0, dual=True, loss='squared_hinge')\n",
    "model.fit(X_train_ct, y_train)\n",
    "y_pred_class = model.predict(X_test_ct)\n",
    "print(\"Number of Features : \", X_train_ct.shape[1])\n",
    "print(\"Training Accuracy : \",model.score(X_train_ct,y_train))\n",
    "print(\"Testing Accuracy : \", model.score(X_test_ct,y_test))"
   ]
  },
  {
   "cell_type": "code",
   "execution_count": 53,
   "id": "37fedcb3",
   "metadata": {},
   "outputs": [],
   "source": [
    "#Part A - Q3 E - Clearly print Performance Metrics."
   ]
  },
  {
   "cell_type": "code",
   "execution_count": 54,
   "id": "83656cce",
   "metadata": {},
   "outputs": [
    {
     "name": "stdout",
     "output_type": "stream",
     "text": [
      "************************************************************\n",
      "**************Classification Report LinearSVC***************\n",
      "************************************************************\n",
      "              precision    recall  f1-score   support\n",
      "\n",
      "           0       0.16      0.04      0.07       112\n",
      "           1       0.00      0.00      0.00       133\n",
      "           2       0.00      0.00      0.00        34\n",
      "           3       0.25      0.05      0.08        44\n",
      "           4       0.16      0.11      0.13       898\n",
      "           5       0.33      0.05      0.09        37\n",
      "           6       0.18      0.07      0.10       112\n",
      "           7       0.22      0.03      0.06        62\n",
      "           8       0.23      0.06      0.09       127\n",
      "           9       0.00      0.00      0.00       108\n",
      "          10       0.11      0.06      0.08       561\n",
      "          11       0.20      0.03      0.06        30\n",
      "          12       0.08      0.03      0.04       173\n",
      "          13       0.16      0.10      0.12       856\n",
      "          14       0.14      0.06      0.08       346\n",
      "          15       0.00      0.00      0.00        16\n",
      "          16       0.51      0.14      0.22       128\n",
      "          17       0.11      0.04      0.05       191\n",
      "          18       0.04      0.01      0.02        84\n",
      "          19       0.09      0.04      0.06       439\n",
      "          20       0.00      0.00      0.00        35\n",
      "          21       0.11      0.04      0.06       259\n",
      "          22       0.00      0.00      0.00        50\n",
      "          23       0.00      0.00      0.00        64\n",
      "          24       0.00      0.00      0.00         8\n",
      "          25       0.15      0.04      0.07       135\n",
      "          26       0.05      0.01      0.02        89\n",
      "          27       0.24      0.08      0.12        91\n",
      "          28       0.10      0.05      0.07       401\n",
      "          29       0.22      0.08      0.12       215\n",
      "          30       0.19      0.05      0.08        81\n",
      "          31       0.07      0.03      0.04       148\n",
      "          32       0.09      0.03      0.04       201\n",
      "          33       0.05      0.01      0.02        83\n",
      "          34       0.35      0.41      0.38      4281\n",
      "          35       0.20      0.16      0.18      1193\n",
      "          36       0.14      0.04      0.06       102\n",
      "          37       0.30      0.05      0.09        55\n",
      "          38       0.73      0.24      0.36        66\n",
      "          39       0.41      0.59      0.48      7069\n",
      "\n",
      "    accuracy                           0.34     19117\n",
      "   macro avg       0.16      0.07      0.09     19117\n",
      "weighted avg       0.29      0.34      0.30     19117\n",
      "\n"
     ]
    },
    {
     "name": "stderr",
     "output_type": "stream",
     "text": [
      "/Users/macuser/opt/anaconda3/lib/python3.9/site-packages/sklearn/metrics/_classification.py:1318: UndefinedMetricWarning: Precision and F-score are ill-defined and being set to 0.0 in labels with no predicted samples. Use `zero_division` parameter to control this behavior.\n",
      "  _warn_prf(average, modifier, msg_start, len(result))\n",
      "/Users/macuser/opt/anaconda3/lib/python3.9/site-packages/sklearn/metrics/_classification.py:1318: UndefinedMetricWarning: Precision and F-score are ill-defined and being set to 0.0 in labels with no predicted samples. Use `zero_division` parameter to control this behavior.\n",
      "  _warn_prf(average, modifier, msg_start, len(result))\n",
      "/Users/macuser/opt/anaconda3/lib/python3.9/site-packages/sklearn/metrics/_classification.py:1318: UndefinedMetricWarning: Precision and F-score are ill-defined and being set to 0.0 in labels with no predicted samples. Use `zero_division` parameter to control this behavior.\n",
      "  _warn_prf(average, modifier, msg_start, len(result))\n"
     ]
    }
   ],
   "source": [
    "from sklearn.metrics import classification_report, confusion_matrix\n",
    "print(\"************************************************************\")\n",
    "print(\"**************Classification Report LinearSVC***************\")\n",
    "print(\"************************************************************\")\n",
    "print(classification_report(y_test, y_pred_class))"
   ]
  },
  {
   "cell_type": "code",
   "execution_count": 55,
   "id": "bf150387",
   "metadata": {},
   "outputs": [],
   "source": [
    "#Part A - Q4 A - Experiment with other vectorisers."
   ]
  },
  {
   "cell_type": "code",
   "execution_count": 56,
   "id": "3d0ee7c0",
   "metadata": {},
   "outputs": [
    {
     "data": {
      "text/plain": [
       "4484751"
      ]
     },
     "execution_count": 56,
     "metadata": {},
     "output_type": "execute_result"
    }
   ],
   "source": [
    "#Using TfidfVectorizer\n",
    "from sklearn.feature_extraction.text import TfidfVectorizer\n",
    "tv = TfidfVectorizer(ngram_range=(1, 2))\n",
    "tv.fit_transform(X_train)\n",
    "#Check the vocabluray size\n",
    "len(tv.vocabulary_)"
   ]
  },
  {
   "cell_type": "code",
   "execution_count": 57,
   "id": "4cc58074",
   "metadata": {},
   "outputs": [
    {
     "data": {
      "text/plain": [
       "(76466, 4484751)"
      ]
     },
     "execution_count": 57,
     "metadata": {},
     "output_type": "execute_result"
    }
   ],
   "source": [
    "#Convert Training blog text into Count Vectors\n",
    "X_train_tv = tv.transform(X_train)\n",
    "#Document Term Matrix size\n",
    "X_train_tv.shape"
   ]
  },
  {
   "cell_type": "code",
   "execution_count": 58,
   "id": "b233f506",
   "metadata": {},
   "outputs": [
    {
     "data": {
      "text/plain": [
       "(19117, 4484751)"
      ]
     },
     "execution_count": 58,
     "metadata": {},
     "output_type": "execute_result"
    }
   ],
   "source": [
    "# Transform test data\n",
    "X_test_tv = tv.transform(X_test)\n",
    "X_test_tv.shape"
   ]
  },
  {
   "cell_type": "code",
   "execution_count": 59,
   "id": "11f4f3f1",
   "metadata": {},
   "outputs": [
    {
     "name": "stdout",
     "output_type": "stream",
     "text": [
      "Number of Features :  4484751\n",
      "Training Accuracy :  0.9851960348390134\n",
      "Testing Accuracy :  0.4068106920541926\n"
     ]
    }
   ],
   "source": [
    "## Rechecking the accuracy with TfidfVectorizer\n",
    "from sklearn.svm import LinearSVC\n",
    "model = LinearSVC(C=1.0, dual=True, loss='squared_hinge')\n",
    "model.fit(X_train_tv, y_train)\n",
    "y_pred_class = model.predict(X_test_tv)\n",
    "print(\"Number of Features : \", X_train_tv.shape[1])\n",
    "print(\"Training Accuracy : \",model.score(X_train_tv,y_train))\n",
    "print(\"Testing Accuracy : \", model.score(X_test_tv,y_test))"
   ]
  },
  {
   "cell_type": "code",
   "execution_count": 60,
   "id": "0c45f947",
   "metadata": {},
   "outputs": [],
   "source": [
    "# Part A - Q4 A - Experiment with other vectorisers.\n",
    "# Testing Accuracy improved by ~6% which is a singificant impovment. "
   ]
  },
  {
   "cell_type": "code",
   "execution_count": 61,
   "id": "d68ced8a",
   "metadata": {},
   "outputs": [
    {
     "name": "stdout",
     "output_type": "stream",
     "text": [
      "************************************************************\n",
      "****Classification report LinearSVC with TfidfVectorizer****\n",
      "************************************************************\n",
      "              precision    recall  f1-score   support\n",
      "\n",
      "           0       0.08      0.01      0.02       112\n",
      "           1       0.40      0.02      0.03       133\n",
      "           2       0.33      0.03      0.05        34\n",
      "           3       0.00      0.00      0.00        44\n",
      "           4       0.35      0.08      0.12       898\n",
      "           5       1.00      0.05      0.10        37\n",
      "           6       0.42      0.04      0.08       112\n",
      "           7       0.40      0.03      0.06        62\n",
      "           8       0.62      0.06      0.11       127\n",
      "           9       0.05      0.01      0.02       108\n",
      "          10       0.35      0.06      0.10       561\n",
      "          11       0.50      0.03      0.06        30\n",
      "          12       0.23      0.02      0.03       173\n",
      "          13       0.32      0.08      0.12       856\n",
      "          14       0.54      0.06      0.10       346\n",
      "          15       0.00      0.00      0.00        16\n",
      "          16       1.00      0.14      0.25       128\n",
      "          17       0.33      0.02      0.04       191\n",
      "          18       0.00      0.00      0.00        84\n",
      "          19       0.33      0.05      0.09       439\n",
      "          20       0.00      0.00      0.00        35\n",
      "          21       0.39      0.03      0.06       259\n",
      "          22       0.00      0.00      0.00        50\n",
      "          23       1.00      0.02      0.03        64\n",
      "          24       0.00      0.00      0.00         8\n",
      "          25       0.47      0.05      0.09       135\n",
      "          26       0.75      0.03      0.06        89\n",
      "          27       0.30      0.03      0.06        91\n",
      "          28       0.28      0.04      0.07       401\n",
      "          29       0.65      0.11      0.19       215\n",
      "          30       0.20      0.01      0.02        81\n",
      "          31       0.13      0.02      0.04       148\n",
      "          32       0.12      0.01      0.02       201\n",
      "          33       0.20      0.01      0.02        83\n",
      "          34       0.40      0.48      0.43      4281\n",
      "          35       0.35      0.14      0.20      1193\n",
      "          36       0.54      0.07      0.12       102\n",
      "          37       0.56      0.09      0.16        55\n",
      "          38       1.00      0.24      0.39        66\n",
      "          39       0.42      0.74      0.53      7069\n",
      "\n",
      "    accuracy                           0.41     19117\n",
      "   macro avg       0.38      0.07      0.10     19117\n",
      "weighted avg       0.39      0.41      0.34     19117\n",
      "\n"
     ]
    },
    {
     "name": "stderr",
     "output_type": "stream",
     "text": [
      "/Users/macuser/opt/anaconda3/lib/python3.9/site-packages/sklearn/metrics/_classification.py:1318: UndefinedMetricWarning: Precision and F-score are ill-defined and being set to 0.0 in labels with no predicted samples. Use `zero_division` parameter to control this behavior.\n",
      "  _warn_prf(average, modifier, msg_start, len(result))\n",
      "/Users/macuser/opt/anaconda3/lib/python3.9/site-packages/sklearn/metrics/_classification.py:1318: UndefinedMetricWarning: Precision and F-score are ill-defined and being set to 0.0 in labels with no predicted samples. Use `zero_division` parameter to control this behavior.\n",
      "  _warn_prf(average, modifier, msg_start, len(result))\n",
      "/Users/macuser/opt/anaconda3/lib/python3.9/site-packages/sklearn/metrics/_classification.py:1318: UndefinedMetricWarning: Precision and F-score are ill-defined and being set to 0.0 in labels with no predicted samples. Use `zero_division` parameter to control this behavior.\n",
      "  _warn_prf(average, modifier, msg_start, len(result))\n"
     ]
    }
   ],
   "source": [
    "print(\"************************************************************\")\n",
    "print(\"******Classification report LinearSVC + TfidfVectorizer*****\")\n",
    "print(\"************************************************************\")\n",
    "print(classification_report(y_test, y_pred_class))"
   ]
  },
  {
   "cell_type": "code",
   "execution_count": 62,
   "id": "f605f4fe",
   "metadata": {},
   "outputs": [],
   "source": [
    "#Part A - Q4 B - Build classifier Models using other algorithms than base model."
   ]
  },
  {
   "cell_type": "code",
   "execution_count": 63,
   "id": "125d702c",
   "metadata": {},
   "outputs": [
    {
     "name": "stdout",
     "output_type": "stream",
     "text": [
      "Number of Features :  4484751\n",
      "Training Accuracy :  0.384628462323124\n",
      "Testing Accuracy :  0.37113563843699326\n"
     ]
    }
   ],
   "source": [
    "# Using Multinomial Naive Bayes\n",
    "from sklearn.naive_bayes import MultinomialNB\n",
    "model = MultinomialNB()\n",
    "model.fit(X_train_tv, y_train)\n",
    "y_pred_class = model.predict(X_test_tv)\n",
    "print(\"Number of Features : \", X_train_tv.shape[1])\n",
    "print(\"Training Accuracy : \",model.score(X_train_tv,y_train))\n",
    "print(\"Testing Accuracy : \", model.score(X_test_tv,y_test))"
   ]
  },
  {
   "cell_type": "code",
   "execution_count": 64,
   "id": "34bcf1a2",
   "metadata": {},
   "outputs": [],
   "source": [
    "#Part A - Q4 C - Tune Parameters/Hyperparameters of the model/s."
   ]
  },
  {
   "cell_type": "code",
   "execution_count": 65,
   "id": "7a614dfa",
   "metadata": {},
   "outputs": [
    {
     "name": "stdout",
     "output_type": "stream",
     "text": [
      "Fitting 5 folds for each of 4 candidates, totalling 20 fits\n",
      "[CV 1/5] END ........................alpha=0.01;, score=0.348 total time=  11.2s\n",
      "[CV 2/5] END ........................alpha=0.01;, score=0.335 total time=   9.0s\n",
      "[CV 3/5] END ........................alpha=0.01;, score=0.340 total time=   9.0s\n",
      "[CV 4/5] END ........................alpha=0.01;, score=0.337 total time=   9.0s\n",
      "[CV 5/5] END ........................alpha=0.01;, score=0.338 total time=   8.9s\n",
      "[CV 1/5] END .........................alpha=0.1;, score=0.384 total time=   9.0s\n",
      "[CV 2/5] END .........................alpha=0.1;, score=0.386 total time=   9.0s\n",
      "[CV 3/5] END .........................alpha=0.1;, score=0.385 total time=   9.0s\n",
      "[CV 4/5] END .........................alpha=0.1;, score=0.387 total time=   9.0s\n",
      "[CV 5/5] END .........................alpha=0.1;, score=0.385 total time=   9.0s\n",
      "[CV 1/5] END .........................alpha=0.5;, score=0.372 total time=   8.9s\n",
      "[CV 2/5] END .........................alpha=0.5;, score=0.373 total time=   8.9s\n",
      "[CV 3/5] END .........................alpha=0.5;, score=0.372 total time=   8.9s\n",
      "[CV 4/5] END .........................alpha=0.5;, score=0.374 total time=  10.4s\n",
      "[CV 5/5] END .........................alpha=0.5;, score=0.372 total time=   9.9s\n",
      "[CV 1/5] END .........................alpha=1.0;, score=0.371 total time=   9.8s\n",
      "[CV 2/5] END .........................alpha=1.0;, score=0.371 total time=  10.2s\n",
      "[CV 3/5] END .........................alpha=1.0;, score=0.370 total time=  10.0s\n",
      "[CV 4/5] END .........................alpha=1.0;, score=0.371 total time=   9.4s\n",
      "[CV 5/5] END .........................alpha=1.0;, score=0.371 total time=   9.4s\n"
     ]
    },
    {
     "data": {
      "text/plain": [
       "GridSearchCV(cv=5, estimator=MultinomialNB(),\n",
       "             param_grid={'alpha': [0.01, 0.1, 0.5, 1.0]}, verbose=3)"
      ]
     },
     "execution_count": 65,
     "metadata": {},
     "output_type": "execute_result"
    }
   ],
   "source": [
    "# defining parameter range\n",
    "from sklearn.model_selection import GridSearchCV\n",
    "params = {'alpha': [0.01, 0.1, 0.5, 1.0 ],\n",
    "         }\n",
    " \n",
    "grid = GridSearchCV(MultinomialNB(), params, refit = True, verbose = 3, cv= 5)\n",
    "# fitting the model for grid search\n",
    "grid.fit(X_train_tv, y_train)"
   ]
  },
  {
   "cell_type": "code",
   "execution_count": 66,
   "id": "06dd439d",
   "metadata": {},
   "outputs": [
    {
     "name": "stdout",
     "output_type": "stream",
     "text": [
      "{'alpha': 0.1}\n"
     ]
    }
   ],
   "source": [
    "print(grid.best_params_)"
   ]
  },
  {
   "cell_type": "code",
   "execution_count": 67,
   "id": "4668bc5e",
   "metadata": {},
   "outputs": [
    {
     "name": "stdout",
     "output_type": "stream",
     "text": [
      "Number of Features :  4484751\n",
      "Training Accuracy :  0.6295085397431538\n",
      "Testing Accuracy :  0.385520740701993\n"
     ]
    }
   ],
   "source": [
    "from sklearn.naive_bayes import MultinomialNB\n",
    "model = MultinomialNB(alpha=0.1)\n",
    "model.fit(X_train_tv, y_train)\n",
    "y_pred_class = model.predict(X_test_tv)\n",
    "print(\"Number of Features : \", X_train_tv.shape[1])\n",
    "print(\"Training Accuracy : \",model.score(X_train_tv,y_train))\n",
    "print(\"Testing Accuracy : \", model.score(X_test_tv,y_test))"
   ]
  },
  {
   "cell_type": "code",
   "execution_count": 68,
   "id": "870b8fa5",
   "metadata": {},
   "outputs": [],
   "source": [
    "#Part A - Q4 C - Not much improvment in testing accuracy "
   ]
  },
  {
   "cell_type": "code",
   "execution_count": 69,
   "id": "934fee41",
   "metadata": {},
   "outputs": [],
   "source": [
    "#Part A - Q4 D - Clearly print Performance Metrics."
   ]
  },
  {
   "cell_type": "code",
   "execution_count": 70,
   "id": "ece2584d",
   "metadata": {},
   "outputs": [
    {
     "name": "stdout",
     "output_type": "stream",
     "text": [
      "************************************************************\n",
      "***********Classification report MultinomialNB**************\n",
      "************************************************************\n",
      "              precision    recall  f1-score   support\n",
      "\n",
      "           0       0.00      0.00      0.00       112\n",
      "           1       0.00      0.00      0.00       133\n",
      "           2       0.00      0.00      0.00        34\n",
      "           3       0.00      0.00      0.00        44\n",
      "           4       0.11      0.00      0.00       898\n",
      "           5       0.00      0.00      0.00        37\n",
      "           6       0.00      0.00      0.00       112\n",
      "           7       0.00      0.00      0.00        62\n",
      "           8       0.00      0.00      0.00       127\n",
      "           9       0.00      0.00      0.00       108\n",
      "          10       1.00      0.00      0.01       561\n",
      "          11       0.00      0.00      0.00        30\n",
      "          12       0.00      0.00      0.00       173\n",
      "          13       1.00      0.00      0.00       856\n",
      "          14       0.00      0.00      0.00       346\n",
      "          15       0.00      0.00      0.00        16\n",
      "          16       1.00      0.01      0.02       128\n",
      "          17       0.00      0.00      0.00       191\n",
      "          18       0.00      0.00      0.00        84\n",
      "          19       1.00      0.00      0.01       439\n",
      "          20       0.00      0.00      0.00        35\n",
      "          21       0.00      0.00      0.00       259\n",
      "          22       0.00      0.00      0.00        50\n",
      "          23       0.00      0.00      0.00        64\n",
      "          24       0.00      0.00      0.00         8\n",
      "          25       0.00      0.00      0.00       135\n",
      "          26       0.00      0.00      0.00        89\n",
      "          27       0.00      0.00      0.00        91\n",
      "          28       0.00      0.00      0.00       401\n",
      "          29       0.00      0.00      0.00       215\n",
      "          30       0.00      0.00      0.00        81\n",
      "          31       0.00      0.00      0.00       148\n",
      "          32       0.00      0.00      0.00       201\n",
      "          33       0.00      0.00      0.00        83\n",
      "          34       0.56      0.11      0.18      4281\n",
      "          35       0.58      0.01      0.02      1193\n",
      "          36       0.00      0.00      0.00       102\n",
      "          37       0.00      0.00      0.00        55\n",
      "          38       1.00      0.15      0.26        66\n",
      "          39       0.38      0.97      0.54      7069\n",
      "\n",
      "    accuracy                           0.39     19117\n",
      "   macro avg       0.17      0.03      0.03     19117\n",
      "weighted avg       0.41      0.39      0.24     19117\n",
      "\n"
     ]
    },
    {
     "name": "stderr",
     "output_type": "stream",
     "text": [
      "/Users/macuser/opt/anaconda3/lib/python3.9/site-packages/sklearn/metrics/_classification.py:1318: UndefinedMetricWarning: Precision and F-score are ill-defined and being set to 0.0 in labels with no predicted samples. Use `zero_division` parameter to control this behavior.\n",
      "  _warn_prf(average, modifier, msg_start, len(result))\n",
      "/Users/macuser/opt/anaconda3/lib/python3.9/site-packages/sklearn/metrics/_classification.py:1318: UndefinedMetricWarning: Precision and F-score are ill-defined and being set to 0.0 in labels with no predicted samples. Use `zero_division` parameter to control this behavior.\n",
      "  _warn_prf(average, modifier, msg_start, len(result))\n",
      "/Users/macuser/opt/anaconda3/lib/python3.9/site-packages/sklearn/metrics/_classification.py:1318: UndefinedMetricWarning: Precision and F-score are ill-defined and being set to 0.0 in labels with no predicted samples. Use `zero_division` parameter to control this behavior.\n",
      "  _warn_prf(average, modifier, msg_start, len(result))\n"
     ]
    }
   ],
   "source": [
    "print(\"************************************************************\")\n",
    "print(\"***********Classification report MultinomialNB**************\")\n",
    "print(\"************************************************************\")\n",
    "print(classification_report(y_test, y_pred_class))"
   ]
  },
  {
   "cell_type": "code",
   "execution_count": 71,
   "id": "5adfbb69",
   "metadata": {},
   "outputs": [
    {
     "name": "stderr",
     "output_type": "stream",
     "text": [
      "/Users/macuser/opt/anaconda3/lib/python3.9/site-packages/sklearn/svm/_base.py:1206: ConvergenceWarning: Liblinear failed to converge, increase the number of iterations.\n",
      "  warnings.warn(\n"
     ]
    },
    {
     "name": "stdout",
     "output_type": "stream",
     "text": [
      "Number of Features :  4484751\n",
      "Training Accuracy :  0.42061831402191824\n",
      "Testing Accuracy :  0.40482293246848355\n"
     ]
    }
   ],
   "source": [
    "from sklearn.linear_model import LogisticRegression\n",
    "model = LogisticRegression(solver='liblinear',penalty='l1')\n",
    "model.fit(X_train_tv, y_train)\n",
    "y_pred_class = model.predict(X_test_tv)\n",
    "print(\"Number of Features : \", X_train_tv.shape[1])\n",
    "print(\"Training Accuracy : \",model.score(X_train_tv,y_train))\n",
    "print(\"Testing Accuracy : \", model.score(X_test_tv,y_test))"
   ]
  },
  {
   "cell_type": "code",
   "execution_count": 72,
   "id": "a2afcc4b",
   "metadata": {},
   "outputs": [
    {
     "name": "stdout",
     "output_type": "stream",
     "text": [
      "************************************************************\n",
      "***********Classification report LogisticRegresson**********\n",
      "************************************************************\n",
      "              precision    recall  f1-score   support\n",
      "\n",
      "           0       0.31      0.04      0.08       112\n",
      "           1       0.00      0.00      0.00       133\n",
      "           2       0.00      0.00      0.00        34\n",
      "           3       0.00      0.00      0.00        44\n",
      "           4       0.54      0.03      0.05       898\n",
      "           5       0.00      0.00      0.00        37\n",
      "           6       1.00      0.02      0.04       112\n",
      "           7       1.00      0.02      0.03        62\n",
      "           8       0.33      0.03      0.06       127\n",
      "           9       0.00      0.00      0.00       108\n",
      "          10       0.40      0.01      0.02       561\n",
      "          11       0.00      0.00      0.00        30\n",
      "          12       0.00      0.00      0.00       173\n",
      "          13       0.56      0.05      0.09       856\n",
      "          14       0.56      0.03      0.05       346\n",
      "          15       0.00      0.00      0.00        16\n",
      "          16       0.82      0.11      0.19       128\n",
      "          17       1.00      0.01      0.02       191\n",
      "          18       0.00      0.00      0.00        84\n",
      "          19       0.53      0.02      0.04       439\n",
      "          20       0.00      0.00      0.00        35\n",
      "          21       0.10      0.00      0.01       259\n",
      "          22       0.00      0.00      0.00        50\n",
      "          23       0.00      0.00      0.00        64\n",
      "          24       0.00      0.00      0.00         8\n",
      "          25       1.00      0.02      0.04       135\n",
      "          26       0.00      0.00      0.00        89\n",
      "          27       0.11      0.01      0.02        91\n",
      "          28       0.40      0.02      0.04       401\n",
      "          29       0.88      0.10      0.18       215\n",
      "          30       0.67      0.02      0.05        81\n",
      "          31       0.12      0.01      0.02       148\n",
      "          32       0.50      0.01      0.02       201\n",
      "          33       0.00      0.00      0.00        83\n",
      "          34       0.46      0.36      0.40      4281\n",
      "          35       0.44      0.06      0.11      1193\n",
      "          36       0.00      0.00      0.00       102\n",
      "          37       1.00      0.04      0.07        55\n",
      "          38       1.00      0.23      0.37        66\n",
      "          39       0.39      0.84      0.53      7069\n",
      "\n",
      "    accuracy                           0.40     19117\n",
      "   macro avg       0.35      0.05      0.06     19117\n",
      "weighted avg       0.43      0.40      0.31     19117\n",
      "\n"
     ]
    },
    {
     "name": "stderr",
     "output_type": "stream",
     "text": [
      "/Users/macuser/opt/anaconda3/lib/python3.9/site-packages/sklearn/metrics/_classification.py:1318: UndefinedMetricWarning: Precision and F-score are ill-defined and being set to 0.0 in labels with no predicted samples. Use `zero_division` parameter to control this behavior.\n",
      "  _warn_prf(average, modifier, msg_start, len(result))\n",
      "/Users/macuser/opt/anaconda3/lib/python3.9/site-packages/sklearn/metrics/_classification.py:1318: UndefinedMetricWarning: Precision and F-score are ill-defined and being set to 0.0 in labels with no predicted samples. Use `zero_division` parameter to control this behavior.\n",
      "  _warn_prf(average, modifier, msg_start, len(result))\n",
      "/Users/macuser/opt/anaconda3/lib/python3.9/site-packages/sklearn/metrics/_classification.py:1318: UndefinedMetricWarning: Precision and F-score are ill-defined and being set to 0.0 in labels with no predicted samples. Use `zero_division` parameter to control this behavior.\n",
      "  _warn_prf(average, modifier, msg_start, len(result))\n"
     ]
    }
   ],
   "source": [
    "print(\"************************************************************\")\n",
    "print(\"***********Classification report LogisticRegresson**********\")\n",
    "print(\"************************************************************\")\n",
    "print(classification_report(y_test, y_pred_class))"
   ]
  },
  {
   "cell_type": "code",
   "execution_count": 73,
   "id": "d6db30a9",
   "metadata": {},
   "outputs": [
    {
     "name": "stdout",
     "output_type": "stream",
     "text": [
      "Number of Features :  4484751\n",
      "Training Accuracy :  0.3819867653597677\n",
      "Testing Accuracy :  0.37286185070879324\n"
     ]
    }
   ],
   "source": [
    "from sklearn.ensemble import RandomForestClassifier\n",
    "model = RandomForestClassifier(max_depth=50)\n",
    "model.fit(X_train_tv, y_train)\n",
    "y_pred_class = model.predict(X_test_tv)\n",
    "print(\"Number of Features : \", X_train_tv.shape[1])\n",
    "print(\"Training Accuracy : \",model.score(X_train_tv,y_train))\n",
    "print(\"Testing Accuracy : \", model.score(X_test_tv,y_test))"
   ]
  },
  {
   "cell_type": "code",
   "execution_count": 74,
   "id": "c730a83f",
   "metadata": {},
   "outputs": [
    {
     "name": "stdout",
     "output_type": "stream",
     "text": [
      "************************************************************\n",
      "*******Classification report RandomForestClassifier*********\n",
      "************************************************************\n",
      "              precision    recall  f1-score   support\n",
      "\n",
      "           0       0.00      0.00      0.00       112\n",
      "           1       0.00      0.00      0.00       133\n",
      "           2       0.00      0.00      0.00        34\n",
      "           3       0.00      0.00      0.00        44\n",
      "           4       1.00      0.00      0.01       898\n",
      "           5       0.00      0.00      0.00        37\n",
      "           6       0.00      0.00      0.00       112\n",
      "           7       0.00      0.00      0.00        62\n",
      "           8       0.00      0.00      0.00       127\n",
      "           9       0.00      0.00      0.00       108\n",
      "          10       0.00      0.00      0.00       561\n",
      "          11       0.00      0.00      0.00        30\n",
      "          12       0.00      0.00      0.00       173\n",
      "          13       0.00      0.00      0.00       856\n",
      "          14       0.00      0.00      0.00       346\n",
      "          15       0.00      0.00      0.00        16\n",
      "          16       0.00      0.00      0.00       128\n",
      "          17       0.00      0.00      0.00       191\n",
      "          18       0.00      0.00      0.00        84\n",
      "          19       1.00      0.00      0.01       439\n",
      "          20       0.00      0.00      0.00        35\n",
      "          21       0.00      0.00      0.00       259\n",
      "          22       0.00      0.00      0.00        50\n",
      "          23       0.00      0.00      0.00        64\n",
      "          24       0.00      0.00      0.00         8\n",
      "          25       0.00      0.00      0.00       135\n",
      "          26       0.00      0.00      0.00        89\n",
      "          27       0.00      0.00      0.00        91\n",
      "          28       0.00      0.00      0.00       401\n",
      "          29       0.00      0.00      0.00       215\n",
      "          30       0.00      0.00      0.00        81\n",
      "          31       0.00      0.00      0.00       148\n",
      "          32       0.00      0.00      0.00       201\n",
      "          33       0.00      0.00      0.00        83\n",
      "          34       0.63      0.02      0.03      4281\n",
      "          35       0.00      0.00      0.00      1193\n",
      "          36       0.00      0.00      0.00       102\n",
      "          37       0.00      0.00      0.00        55\n",
      "          38       1.00      0.20      0.33        66\n",
      "          39       0.37      1.00      0.54      7069\n",
      "\n",
      "    accuracy                           0.37     19117\n",
      "   macro avg       0.10      0.03      0.02     19117\n",
      "weighted avg       0.35      0.37      0.21     19117\n",
      "\n"
     ]
    },
    {
     "name": "stderr",
     "output_type": "stream",
     "text": [
      "/Users/macuser/opt/anaconda3/lib/python3.9/site-packages/sklearn/metrics/_classification.py:1318: UndefinedMetricWarning: Precision and F-score are ill-defined and being set to 0.0 in labels with no predicted samples. Use `zero_division` parameter to control this behavior.\n",
      "  _warn_prf(average, modifier, msg_start, len(result))\n",
      "/Users/macuser/opt/anaconda3/lib/python3.9/site-packages/sklearn/metrics/_classification.py:1318: UndefinedMetricWarning: Precision and F-score are ill-defined and being set to 0.0 in labels with no predicted samples. Use `zero_division` parameter to control this behavior.\n",
      "  _warn_prf(average, modifier, msg_start, len(result))\n",
      "/Users/macuser/opt/anaconda3/lib/python3.9/site-packages/sklearn/metrics/_classification.py:1318: UndefinedMetricWarning: Precision and F-score are ill-defined and being set to 0.0 in labels with no predicted samples. Use `zero_division` parameter to control this behavior.\n",
      "  _warn_prf(average, modifier, msg_start, len(result))\n"
     ]
    }
   ],
   "source": [
    "print(\"************************************************************\")\n",
    "print(\"*******Classification report RandomForestClassifier*********\")\n",
    "print(\"************************************************************\")\n",
    "print(classification_report(y_test, y_pred_class))"
   ]
  },
  {
   "cell_type": "markdown",
   "id": "f2d6eebe",
   "metadata": {},
   "source": [
    "### Part A - Q5 A - Which vectorizer performed better? Probable reason?.\n",
    "#### Ans : Vectoriser TfidfVectorizer beformed better than CountVectorizer\n",
    "#### TfidfVectorizer performed better than CountVectorizer when dealing with text classification problems because it takes into account the rarity of words in the corpus. ~6% improvment in testing accuracy using TfidfVectorizer\n",
    "====================================================================================================================\n",
    "\n",
    "### Part A - Q5 B - Which model outperformed? Probable reason?\n",
    "#### Ans: Models gave accuracy in range of 37~41% which was not good. \n",
    "#### Accuracy and F1-score for LinearSVC with TfidfVectorizer outperfomred other models mainly because of TfidfVectorizer.\n",
    "====================================================================================================================\n",
    "\n",
    "### Part A - Q5 C - Which parameter/hyperparameter significantly helped to improve performance? Probable reason?.\n",
    "#### Ans: TfidfVectorizer helped to improve the performance because it takes into account the rarity of words in the corpus.\n",
    "====================================================================================================================\n",
    "\n",
    "###  Part A - Q5 D - According to you, which performance metric should be given most importance, why?.\n",
    "#### Ans : \n",
    "#### Validate Accuracy, F1-Score, recall and precision for classes with high frequency topics category. Do not go for overall accuracy as many classes are under represented. A model with better F1-Score suggest that both Precision and Recall are good. "
   ]
  },
  {
   "cell_type": "markdown",
   "id": "b155e0c4",
   "metadata": {},
   "source": [
    "# PART B\n",
    "## Part B - Q1 - Start chat session with greetings and ask what the user is looking for.\n",
    "\n",
    "## Part B - Q2 - Accept dynamic text based questions from the user. Reply back with relevant answer from the designed corpus.\n",
    "\n",
    "## Part B - Q3 - End the chat session only if the user requests to end else ask what the user is looking for. Loop continues till the user asks to end it."
   ]
  },
  {
   "cell_type": "code",
   "execution_count": 1,
   "id": "f30ba526",
   "metadata": {},
   "outputs": [
    {
     "name": "stderr",
     "output_type": "stream",
     "text": [
      "2023-03-18 17:46:45.259502: I tensorflow/core/platform/cpu_feature_guard.cc:193] This TensorFlow binary is optimized with oneAPI Deep Neural Network Library (oneDNN) to use the following CPU instructions in performance-critical operations:  AVX2 FMA\n",
      "To enable them in other operations, rebuild TensorFlow with the appropriate compiler flags.\n"
     ]
    }
   ],
   "source": [
    "import tensorflow as tf\n",
    "tf.__version__\n",
    "\n",
    "import json \n",
    "import numpy as np \n",
    "from sklearn.preprocessing import LabelEncoder\n",
    "import tensorflow as tf\n",
    "from tensorflow import keras\n",
    "from tensorflow.keras.models import Sequential\n",
    "from tensorflow.keras.layers import Dense, Embedding, GlobalAveragePooling1D\n",
    "from tensorflow.keras.preprocessing.text import Tokenizer\n",
    "from tensorflow.keras.preprocessing.sequence import pad_sequences"
   ]
  },
  {
   "cell_type": "code",
   "execution_count": 2,
   "id": "0b18f081",
   "metadata": {},
   "outputs": [],
   "source": [
    "#Load the data\n",
    "import json\n",
    "with open('GL+Bot.json') as file:\n",
    "    Corpus = json.load(file) "
   ]
  },
  {
   "cell_type": "code",
   "execution_count": 3,
   "id": "731a8132",
   "metadata": {},
   "outputs": [
    {
     "name": "stdout",
     "output_type": "stream",
     "text": [
      "{\n",
      "    \"intents\": [\n",
      "        {\n",
      "            \"context_set\": \"\",\n",
      "            \"patterns\": [\n",
      "                \"hi\",\n",
      "                \"how are you\",\n",
      "                \"is anyone there\",\n",
      "                \"hello\",\n",
      "                \"whats up\",\n",
      "                \"hey\",\n",
      "                \"yo\",\n",
      "                \"listen\",\n",
      "                \"please help me\",\n",
      "                \"i am learner from\",\n",
      "                \"i belong to\",\n",
      "                \"aiml batch\",\n",
      "                \"aifl batch\",\n",
      "                \"i am from\",\n",
      "                \"my pm is\",\n",
      "                \"blended\",\n",
      "                \"online\",\n",
      "                \"i am from\",\n",
      "                \"hey ya\",\n",
      "                \"talking to you for first time\"\n",
      "            ],\n",
      "            \"responses\": [\n",
      "                \"Hello! how can i help you ?\"\n",
      "            ],\n",
      "            \"tag\": \"Intro\"\n",
      "        },\n",
      "        {\n",
      "            \"context_set\": \"\",\n",
      "            \"patterns\": [\n",
      "                \"thank you\",\n",
      "                \"thanks\",\n",
      "                \"cya\",\n",
      "                \"see you\",\n",
      "                \"later\",\n",
      "                \"see you later\",\n",
      "                \"goodbye\",\n",
      "                \"i am leaving\",\n",
      "                \"have a Good day\",\n",
      "                \"you helped me\",\n",
      "                \"thanks a lot\",\n",
      "                \"thanks a ton\",\n",
      "                \"you are the best\",\n",
      "                \"great help\",\n",
      "                \"too good\",\n",
      "                \"you are a good learning buddy\"\n",
      "            ],\n",
      "            \"responses\": [\n",
      "                \"I hope I was able to assist you, Good Bye\"\n",
      "            ],\n",
      "            \"tag\": \"Exit\"\n",
      "        },\n",
      "        {\n",
      "            \"context_set\": \"\",\n",
      "            \"patterns\": [\n",
      "                \"olympus\",\n",
      "                \"explain me how olympus works\",\n",
      "                \"I am not able to understand olympus\",\n",
      "                \"olympus window not working\",\n",
      "                \"no access to olympus\",\n",
      "                \"unable to see link in olympus\",\n",
      "                \"no link visible on olympus\",\n",
      "                \"whom to contact for olympus\",\n",
      "                \"lot of problem with olympus\",\n",
      "                \"olypus is not a good tool\",\n",
      "                \"lot of problems with olympus\",\n",
      "                \"how to use olympus\",\n",
      "                \"teach me olympus\"\n",
      "            ],\n",
      "            \"responses\": [\n",
      "                \"Link: Olympus wiki\"\n",
      "            ],\n",
      "            \"tag\": \"Olympus\"\n",
      "        },\n",
      "        {\n",
      "            \"context_set\": \"\",\n",
      "            \"patterns\": [\n",
      "                \"i am not able to understand svm\",\n",
      "                \"explain me how machine learning works\",\n",
      "                \"i am not able to understand naive bayes\",\n",
      "                \"i am not able to understand logistic regression\",\n",
      "                \"i am not able to understand ensemble techb=niques\",\n",
      "                \"i am not able to understand knn\",\n",
      "                \"i am not able to understand knn imputer\",\n",
      "                \"i am not able to understand cross validation\",\n",
      "                \"i am not able to understand boosting\",\n",
      "                \"i am not able to understand random forest\",\n",
      "                \"i am not able to understand ada boosting\",\n",
      "                \"i am not able to understand gradient boosting\",\n",
      "                \"machine learning\",\n",
      "                \"ML\",\n",
      "                \"SL\",\n",
      "                \"supervised learning\",\n",
      "                \"knn\",\n",
      "                \"logistic regression\",\n",
      "                \"regression\",\n",
      "                \"classification\",\n",
      "                \"naive bayes\",\n",
      "                \"nb\",\n",
      "                \"ensemble techniques\",\n",
      "                \"bagging\",\n",
      "                \"boosting\",\n",
      "                \"ada boosting\",\n",
      "                \"ada\",\n",
      "                \"gradient boosting\",\n",
      "                \"hyper parameters\"\n",
      "            ],\n",
      "            \"responses\": [\n",
      "                \"Link: Machine Learning wiki \"\n",
      "            ],\n",
      "            \"tag\": \"SL\"\n",
      "        },\n",
      "        {\n",
      "            \"context_set\": \"\",\n",
      "            \"patterns\": [\n",
      "                \"what is deep learning\",\n",
      "                \"unable to understand deep learning\",\n",
      "                \"explain me how deep learning works\",\n",
      "                \"i am not able to understand deep learning\",\n",
      "                \"not able to understand neural nets\",\n",
      "                \"very diffult to understand neural nets\",\n",
      "                \"unable to understand neural nets\",\n",
      "                \"ann\",\n",
      "                \"artificial intelligence\",\n",
      "                \"artificial neural networks\",\n",
      "                \"weights\",\n",
      "                \"activation function\",\n",
      "                \"hidden layers\",\n",
      "                \"softmax\",\n",
      "                \"sigmoid\",\n",
      "                \"relu\",\n",
      "                \"otimizer\",\n",
      "                \"forward propagation\",\n",
      "                \"backward propagation\",\n",
      "                \"epochs\",\n",
      "                \"epoch\",\n",
      "                \"what is an epoch\",\n",
      "                \"adam\",\n",
      "                \"sgd\"\n",
      "            ],\n",
      "            \"responses\": [\n",
      "                \"Link: Neural Nets wiki\"\n",
      "            ],\n",
      "            \"tag\": \"NN\"\n",
      "        },\n",
      "        {\n",
      "            \"context_set\": \"\",\n",
      "            \"patterns\": [\n",
      "                \"what is your name\",\n",
      "                \"who are you\",\n",
      "                \"name please\",\n",
      "                \"when are your hours of opertions\",\n",
      "                \"what are your working hours\",\n",
      "                \"hours of operation\",\n",
      "                \"working hours\",\n",
      "                \"hours\"\n",
      "            ],\n",
      "            \"responses\": [\n",
      "                \"I am your virtual learning assistant\"\n",
      "            ],\n",
      "            \"tag\": \"Bot\"\n",
      "        },\n",
      "        {\n",
      "            \"context_set\": \"\",\n",
      "            \"patterns\": [\n",
      "                \"what the hell\",\n",
      "                \"bloody stupid bot\",\n",
      "                \"do you think you are very smart\",\n",
      "                \"screw you\",\n",
      "                \"i hate you\",\n",
      "                \"you are stupid\",\n",
      "                \"jerk\",\n",
      "                \"you are a joke\",\n",
      "                \"useless piece of shit\"\n",
      "            ],\n",
      "            \"responses\": [\n",
      "                \"Please use respectful words\"\n",
      "            ],\n",
      "            \"tag\": \"Profane\"\n",
      "        },\n",
      "        {\n",
      "            \"context_set\": \"\",\n",
      "            \"patterns\": [\n",
      "                \"my problem is not solved\",\n",
      "                \"you did not help me\",\n",
      "                \"not a good solution\",\n",
      "                \"bad solution\",\n",
      "                \"not good solution\",\n",
      "                \"no help\",\n",
      "                \"wasted my time\",\n",
      "                \"useless bot\",\n",
      "                \"create a ticket\"\n",
      "            ],\n",
      "            \"responses\": [\n",
      "                \"Tarnsferring the request to your PM\"\n",
      "            ],\n",
      "            \"tag\": \"Ticket\"\n",
      "        }\n",
      "    ]\n",
      "}\n"
     ]
    }
   ],
   "source": [
    "print(json.dumps(Corpus, indent=4, sort_keys=True))"
   ]
  },
  {
   "cell_type": "code",
   "execution_count": 4,
   "id": "19071b2f",
   "metadata": {},
   "outputs": [],
   "source": [
    "# Extract data\n",
    "training_sentences = []\n",
    "trg_lbl = []\n",
    "labels = []\n",
    "responses = []\n",
    "\n",
    "\n",
    "for intent in Corpus['intents']:\n",
    "    for pattern in intent['patterns']:\n",
    "        training_sentences.append(pattern)\n",
    "        trg_lbl.append(intent['tag'])\n",
    "    responses.append(intent['responses'])\n",
    "    \n",
    "    if intent['tag'] not in labels:\n",
    "        labels.append(intent['tag'])\n",
    "        \n",
    "num_classes = len(labels)"
   ]
  },
  {
   "cell_type": "code",
   "execution_count": 5,
   "id": "6824e78d",
   "metadata": {},
   "outputs": [],
   "source": [
    "# Tokenisation\n",
    "\n",
    "#Encoding the labels\n",
    "lbl_edr = LabelEncoder()\n",
    "lbl_edr.fit(trg_lbl)\n",
    "trg_lbl = lbl_edr.transform(trg_lbl)\n",
    "\n",
    "trg_lbl\n",
    "\n",
    "vocab_size = 1000\n",
    "embedding_dim = 16\n",
    "max_len = 20\n",
    "oov_token = \"<OOV>\"\n",
    "\n",
    "tokenizer = Tokenizer(num_words=vocab_size, oov_token=oov_token)\n",
    "tokenizer.fit_on_texts(training_sentences)\n",
    "word_index = tokenizer.word_index\n",
    "sequences = tokenizer.texts_to_sequences(training_sentences)\n",
    "padded_sequences = pad_sequences(sequences, truncating='post', maxlen=max_len)"
   ]
  },
  {
   "cell_type": "code",
   "execution_count": 6,
   "id": "c582427c",
   "metadata": {},
   "outputs": [
    {
     "name": "stdout",
     "output_type": "stream",
     "text": [
      "Model: \"sequential\"\n",
      "_________________________________________________________________\n",
      " Layer (type)                Output Shape              Param #   \n",
      "=================================================================\n",
      " embedding (Embedding)       (None, 20, 16)            16000     \n",
      "                                                                 \n",
      " global_average_pooling1d (G  (None, 16)               0         \n",
      " lobalAveragePooling1D)                                          \n",
      "                                                                 \n",
      " dense (Dense)               (None, 32)                544       \n",
      "                                                                 \n",
      " dense_1 (Dense)             (None, 16)                528       \n",
      "                                                                 \n",
      " dense_2 (Dense)             (None, 8)                 136       \n",
      "                                                                 \n",
      "=================================================================\n",
      "Total params: 17,208\n",
      "Trainable params: 17,208\n",
      "Non-trainable params: 0\n",
      "_________________________________________________________________\n"
     ]
    },
    {
     "name": "stderr",
     "output_type": "stream",
     "text": [
      "2023-03-18 17:46:53.629142: I tensorflow/core/platform/cpu_feature_guard.cc:193] This TensorFlow binary is optimized with oneAPI Deep Neural Network Library (oneDNN) to use the following CPU instructions in performance-critical operations:  AVX2 FMA\n",
      "To enable them in other operations, rebuild TensorFlow with the appropriate compiler flags.\n"
     ]
    }
   ],
   "source": [
    "mdlBot = Sequential()\n",
    "mdlBot.add(Embedding(vocab_size, embedding_dim, input_length=max_len))\n",
    "mdlBot.add(GlobalAveragePooling1D())\n",
    "mdlBot.add(Dense(32, activation='relu'))\n",
    "mdlBot.add(Dense(16, activation='relu'))\n",
    "mdlBot.add(Dense(num_classes, activation='softmax'))\n",
    "\n",
    "mdlBot.compile(loss='sparse_categorical_crossentropy', \n",
    "              optimizer='adam', metrics=['accuracy'])\n",
    "\n",
    "mdlBot.summary()"
   ]
  },
  {
   "cell_type": "code",
   "execution_count": 7,
   "id": "e77ba6d7",
   "metadata": {
    "scrolled": false
   },
   "outputs": [
    {
     "name": "stdout",
     "output_type": "stream",
     "text": [
      "Epoch 1/250\n",
      "4/4 [==============================] - 1s 4ms/step - loss: 2.0766 - accuracy: 0.2266\n",
      "Epoch 2/250\n",
      "4/4 [==============================] - 0s 2ms/step - loss: 2.0712 - accuracy: 0.2031\n",
      "Epoch 3/250\n",
      "4/4 [==============================] - 0s 2ms/step - loss: 2.0661 - accuracy: 0.1875\n",
      "Epoch 4/250\n",
      "4/4 [==============================] - 0s 2ms/step - loss: 2.0609 - accuracy: 0.1875\n",
      "Epoch 5/250\n",
      "4/4 [==============================] - 0s 2ms/step - loss: 2.0556 - accuracy: 0.1875\n",
      "Epoch 6/250\n",
      "4/4 [==============================] - 0s 2ms/step - loss: 2.0507 - accuracy: 0.1875\n",
      "Epoch 7/250\n",
      "4/4 [==============================] - 0s 2ms/step - loss: 2.0443 - accuracy: 0.1875\n",
      "Epoch 8/250\n",
      "4/4 [==============================] - 0s 2ms/step - loss: 2.0382 - accuracy: 0.1875\n",
      "Epoch 9/250\n",
      "4/4 [==============================] - 0s 2ms/step - loss: 2.0310 - accuracy: 0.1875\n",
      "Epoch 10/250\n",
      "4/4 [==============================] - 0s 2ms/step - loss: 2.0244 - accuracy: 0.1875\n",
      "Epoch 11/250\n",
      "4/4 [==============================] - 0s 2ms/step - loss: 2.0175 - accuracy: 0.1875\n",
      "Epoch 12/250\n",
      "4/4 [==============================] - 0s 2ms/step - loss: 2.0127 - accuracy: 0.1875\n",
      "Epoch 13/250\n",
      "4/4 [==============================] - 0s 2ms/step - loss: 2.0035 - accuracy: 0.1875\n",
      "Epoch 14/250\n",
      "4/4 [==============================] - 0s 2ms/step - loss: 1.9967 - accuracy: 0.1875\n",
      "Epoch 15/250\n",
      "4/4 [==============================] - 0s 2ms/step - loss: 1.9906 - accuracy: 0.1875\n",
      "Epoch 16/250\n",
      "4/4 [==============================] - 0s 2ms/step - loss: 1.9826 - accuracy: 0.1875\n",
      "Epoch 17/250\n",
      "4/4 [==============================] - 0s 2ms/step - loss: 1.9775 - accuracy: 0.1875\n",
      "Epoch 18/250\n",
      "4/4 [==============================] - 0s 2ms/step - loss: 1.9706 - accuracy: 0.1875\n",
      "Epoch 19/250\n",
      "4/4 [==============================] - 0s 2ms/step - loss: 1.9654 - accuracy: 0.1875\n",
      "Epoch 20/250\n",
      "4/4 [==============================] - 0s 2ms/step - loss: 1.9594 - accuracy: 0.1875\n",
      "Epoch 21/250\n",
      "4/4 [==============================] - 0s 2ms/step - loss: 1.9551 - accuracy: 0.1953\n",
      "Epoch 22/250\n",
      "4/4 [==============================] - 0s 2ms/step - loss: 1.9499 - accuracy: 0.2422\n",
      "Epoch 23/250\n",
      "4/4 [==============================] - 0s 2ms/step - loss: 1.9445 - accuracy: 0.3047\n",
      "Epoch 24/250\n",
      "4/4 [==============================] - 0s 2ms/step - loss: 1.9397 - accuracy: 0.3516\n",
      "Epoch 25/250\n",
      "4/4 [==============================] - 0s 2ms/step - loss: 1.9346 - accuracy: 0.3906\n",
      "Epoch 26/250\n",
      "4/4 [==============================] - 0s 2ms/step - loss: 1.9295 - accuracy: 0.3906\n",
      "Epoch 27/250\n",
      "4/4 [==============================] - 0s 2ms/step - loss: 1.9243 - accuracy: 0.3594\n",
      "Epoch 28/250\n",
      "4/4 [==============================] - 0s 2ms/step - loss: 1.9187 - accuracy: 0.3828\n",
      "Epoch 29/250\n",
      "4/4 [==============================] - 0s 2ms/step - loss: 1.9121 - accuracy: 0.3828\n",
      "Epoch 30/250\n",
      "4/4 [==============================] - 0s 2ms/step - loss: 1.9057 - accuracy: 0.3984\n",
      "Epoch 31/250\n",
      "4/4 [==============================] - 0s 2ms/step - loss: 1.8986 - accuracy: 0.3281\n",
      "Epoch 32/250\n",
      "4/4 [==============================] - 0s 2ms/step - loss: 1.8923 - accuracy: 0.3438\n",
      "Epoch 33/250\n",
      "4/4 [==============================] - 0s 2ms/step - loss: 1.8850 - accuracy: 0.3281\n",
      "Epoch 34/250\n",
      "4/4 [==============================] - 0s 2ms/step - loss: 1.8758 - accuracy: 0.3281\n",
      "Epoch 35/250\n",
      "4/4 [==============================] - 0s 2ms/step - loss: 1.8673 - accuracy: 0.3750\n",
      "Epoch 36/250\n",
      "4/4 [==============================] - 0s 2ms/step - loss: 1.8578 - accuracy: 0.3906\n",
      "Epoch 37/250\n",
      "4/4 [==============================] - 0s 2ms/step - loss: 1.8481 - accuracy: 0.3438\n",
      "Epoch 38/250\n",
      "4/4 [==============================] - 0s 2ms/step - loss: 1.8377 - accuracy: 0.3828\n",
      "Epoch 39/250\n",
      "4/4 [==============================] - 0s 2ms/step - loss: 1.8268 - accuracy: 0.4062\n",
      "Epoch 40/250\n",
      "4/4 [==============================] - 0s 2ms/step - loss: 1.8147 - accuracy: 0.4062\n",
      "Epoch 41/250\n",
      "4/4 [==============================] - 0s 2ms/step - loss: 1.8033 - accuracy: 0.4062\n",
      "Epoch 42/250\n",
      "4/4 [==============================] - 0s 2ms/step - loss: 1.7903 - accuracy: 0.4062\n",
      "Epoch 43/250\n",
      "4/4 [==============================] - 0s 2ms/step - loss: 1.7774 - accuracy: 0.4062\n",
      "Epoch 44/250\n",
      "4/4 [==============================] - 0s 2ms/step - loss: 1.7640 - accuracy: 0.3984\n",
      "Epoch 45/250\n",
      "4/4 [==============================] - 0s 5ms/step - loss: 1.7497 - accuracy: 0.3984\n",
      "Epoch 46/250\n",
      "4/4 [==============================] - 0s 2ms/step - loss: 1.7349 - accuracy: 0.3984\n",
      "Epoch 47/250\n",
      "4/4 [==============================] - 0s 2ms/step - loss: 1.7188 - accuracy: 0.3984\n",
      "Epoch 48/250\n",
      "4/4 [==============================] - 0s 2ms/step - loss: 1.7042 - accuracy: 0.3984\n",
      "Epoch 49/250\n",
      "4/4 [==============================] - 0s 3ms/step - loss: 1.6892 - accuracy: 0.3906\n",
      "Epoch 50/250\n",
      "4/4 [==============================] - 0s 2ms/step - loss: 1.6721 - accuracy: 0.3906\n",
      "Epoch 51/250\n",
      "4/4 [==============================] - 0s 2ms/step - loss: 1.6563 - accuracy: 0.4062\n",
      "Epoch 52/250\n",
      "4/4 [==============================] - 0s 2ms/step - loss: 1.6391 - accuracy: 0.3984\n",
      "Epoch 53/250\n",
      "4/4 [==============================] - 0s 3ms/step - loss: 1.6229 - accuracy: 0.3984\n",
      "Epoch 54/250\n",
      "4/4 [==============================] - 0s 2ms/step - loss: 1.6065 - accuracy: 0.3984\n",
      "Epoch 55/250\n",
      "4/4 [==============================] - 0s 2ms/step - loss: 1.5889 - accuracy: 0.3984\n",
      "Epoch 56/250\n",
      "4/4 [==============================] - 0s 2ms/step - loss: 1.5728 - accuracy: 0.4062\n",
      "Epoch 57/250\n",
      "4/4 [==============================] - 0s 2ms/step - loss: 1.5554 - accuracy: 0.4062\n",
      "Epoch 58/250\n",
      "4/4 [==============================] - 0s 2ms/step - loss: 1.5375 - accuracy: 0.4062\n",
      "Epoch 59/250\n",
      "4/4 [==============================] - 0s 2ms/step - loss: 1.5205 - accuracy: 0.4062\n",
      "Epoch 60/250\n",
      "4/4 [==============================] - 0s 2ms/step - loss: 1.5037 - accuracy: 0.4062\n",
      "Epoch 61/250\n",
      "4/4 [==============================] - 0s 2ms/step - loss: 1.4854 - accuracy: 0.4062\n",
      "Epoch 62/250\n",
      "4/4 [==============================] - 0s 2ms/step - loss: 1.4673 - accuracy: 0.4062\n",
      "Epoch 63/250\n",
      "4/4 [==============================] - 0s 2ms/step - loss: 1.4500 - accuracy: 0.4141\n",
      "Epoch 64/250\n",
      "4/4 [==============================] - 0s 2ms/step - loss: 1.4322 - accuracy: 0.4219\n",
      "Epoch 65/250\n",
      "4/4 [==============================] - 0s 2ms/step - loss: 1.4143 - accuracy: 0.4219\n",
      "Epoch 66/250\n",
      "4/4 [==============================] - 0s 5ms/step - loss: 1.3965 - accuracy: 0.4219\n",
      "Epoch 67/250\n",
      "4/4 [==============================] - 0s 3ms/step - loss: 1.3795 - accuracy: 0.4297\n",
      "Epoch 68/250\n",
      "4/4 [==============================] - 0s 2ms/step - loss: 1.3613 - accuracy: 0.4453\n",
      "Epoch 69/250\n",
      "4/4 [==============================] - 0s 2ms/step - loss: 1.3444 - accuracy: 0.4453\n",
      "Epoch 70/250\n",
      "4/4 [==============================] - 0s 3ms/step - loss: 1.3262 - accuracy: 0.4453\n",
      "Epoch 71/250\n",
      "4/4 [==============================] - 0s 2ms/step - loss: 1.3103 - accuracy: 0.4609\n",
      "Epoch 72/250\n",
      "4/4 [==============================] - 0s 2ms/step - loss: 1.2929 - accuracy: 0.4844\n",
      "Epoch 73/250\n",
      "4/4 [==============================] - 0s 2ms/step - loss: 1.2755 - accuracy: 0.5078\n",
      "Epoch 74/250\n",
      "4/4 [==============================] - 0s 2ms/step - loss: 1.2563 - accuracy: 0.5078\n",
      "Epoch 75/250\n",
      "4/4 [==============================] - 0s 2ms/step - loss: 1.2399 - accuracy: 0.5234\n",
      "Epoch 76/250\n",
      "4/4 [==============================] - 0s 2ms/step - loss: 1.2227 - accuracy: 0.5234\n",
      "Epoch 77/250\n",
      "4/4 [==============================] - 0s 2ms/step - loss: 1.2039 - accuracy: 0.5234\n",
      "Epoch 78/250\n",
      "4/4 [==============================] - 0s 2ms/step - loss: 1.1868 - accuracy: 0.5547\n",
      "Epoch 79/250\n",
      "4/4 [==============================] - 0s 2ms/step - loss: 1.1688 - accuracy: 0.5859\n",
      "Epoch 80/250\n",
      "4/4 [==============================] - 0s 2ms/step - loss: 1.1511 - accuracy: 0.5938\n",
      "Epoch 81/250\n",
      "4/4 [==============================] - 0s 2ms/step - loss: 1.1341 - accuracy: 0.6016\n",
      "Epoch 82/250\n",
      "4/4 [==============================] - 0s 2ms/step - loss: 1.1173 - accuracy: 0.6094\n",
      "Epoch 83/250\n",
      "4/4 [==============================] - 0s 2ms/step - loss: 1.0991 - accuracy: 0.6250\n",
      "Epoch 84/250\n"
     ]
    },
    {
     "name": "stdout",
     "output_type": "stream",
     "text": [
      "4/4 [==============================] - 0s 2ms/step - loss: 1.0823 - accuracy: 0.6641\n",
      "Epoch 85/250\n",
      "4/4 [==============================] - 0s 2ms/step - loss: 1.0633 - accuracy: 0.6953\n",
      "Epoch 86/250\n",
      "4/4 [==============================] - 0s 2ms/step - loss: 1.0476 - accuracy: 0.6875\n",
      "Epoch 87/250\n",
      "4/4 [==============================] - 0s 2ms/step - loss: 1.0271 - accuracy: 0.7031\n",
      "Epoch 88/250\n",
      "4/4 [==============================] - 0s 2ms/step - loss: 1.0109 - accuracy: 0.7031\n",
      "Epoch 89/250\n",
      "4/4 [==============================] - 0s 2ms/step - loss: 0.9916 - accuracy: 0.7109\n",
      "Epoch 90/250\n",
      "4/4 [==============================] - 0s 2ms/step - loss: 0.9749 - accuracy: 0.7188\n",
      "Epoch 91/250\n",
      "4/4 [==============================] - 0s 2ms/step - loss: 0.9562 - accuracy: 0.7188\n",
      "Epoch 92/250\n",
      "4/4 [==============================] - 0s 2ms/step - loss: 0.9389 - accuracy: 0.7188\n",
      "Epoch 93/250\n",
      "4/4 [==============================] - 0s 2ms/step - loss: 0.9223 - accuracy: 0.7188\n",
      "Epoch 94/250\n",
      "4/4 [==============================] - 0s 2ms/step - loss: 0.9048 - accuracy: 0.7188\n",
      "Epoch 95/250\n",
      "4/4 [==============================] - 0s 2ms/step - loss: 0.8874 - accuracy: 0.7188\n",
      "Epoch 96/250\n",
      "4/4 [==============================] - 0s 2ms/step - loss: 0.8720 - accuracy: 0.7188\n",
      "Epoch 97/250\n",
      "4/4 [==============================] - 0s 2ms/step - loss: 0.8552 - accuracy: 0.7266\n",
      "Epoch 98/250\n",
      "4/4 [==============================] - 0s 2ms/step - loss: 0.8391 - accuracy: 0.7344\n",
      "Epoch 99/250\n",
      "4/4 [==============================] - 0s 2ms/step - loss: 0.8225 - accuracy: 0.7344\n",
      "Epoch 100/250\n",
      "4/4 [==============================] - 0s 2ms/step - loss: 0.8069 - accuracy: 0.7344\n",
      "Epoch 101/250\n",
      "4/4 [==============================] - 0s 2ms/step - loss: 0.7933 - accuracy: 0.7422\n",
      "Epoch 102/250\n",
      "4/4 [==============================] - 0s 2ms/step - loss: 0.7771 - accuracy: 0.7500\n",
      "Epoch 103/250\n",
      "4/4 [==============================] - 0s 2ms/step - loss: 0.7649 - accuracy: 0.7578\n",
      "Epoch 104/250\n",
      "4/4 [==============================] - 0s 2ms/step - loss: 0.7481 - accuracy: 0.7500\n",
      "Epoch 105/250\n",
      "4/4 [==============================] - 0s 2ms/step - loss: 0.7341 - accuracy: 0.7500\n",
      "Epoch 106/250\n",
      "4/4 [==============================] - 0s 2ms/step - loss: 0.7201 - accuracy: 0.7656\n",
      "Epoch 107/250\n",
      "4/4 [==============================] - 0s 3ms/step - loss: 0.7072 - accuracy: 0.7734\n",
      "Epoch 108/250\n",
      "4/4 [==============================] - 0s 2ms/step - loss: 0.6933 - accuracy: 0.7812\n",
      "Epoch 109/250\n",
      "4/4 [==============================] - 0s 2ms/step - loss: 0.6811 - accuracy: 0.7969\n",
      "Epoch 110/250\n",
      "4/4 [==============================] - 0s 2ms/step - loss: 0.6688 - accuracy: 0.8125\n",
      "Epoch 111/250\n",
      "4/4 [==============================] - 0s 2ms/step - loss: 0.6560 - accuracy: 0.8125\n",
      "Epoch 112/250\n",
      "4/4 [==============================] - 0s 2ms/step - loss: 0.6448 - accuracy: 0.8281\n",
      "Epoch 113/250\n",
      "4/4 [==============================] - 0s 2ms/step - loss: 0.6314 - accuracy: 0.8359\n",
      "Epoch 114/250\n",
      "4/4 [==============================] - 0s 2ms/step - loss: 0.6202 - accuracy: 0.8359\n",
      "Epoch 115/250\n",
      "4/4 [==============================] - 0s 2ms/step - loss: 0.6083 - accuracy: 0.8359\n",
      "Epoch 116/250\n",
      "4/4 [==============================] - 0s 2ms/step - loss: 0.5973 - accuracy: 0.8438\n",
      "Epoch 117/250\n",
      "4/4 [==============================] - 0s 2ms/step - loss: 0.5864 - accuracy: 0.8438\n",
      "Epoch 118/250\n",
      "4/4 [==============================] - 0s 2ms/step - loss: 0.5753 - accuracy: 0.8359\n",
      "Epoch 119/250\n",
      "4/4 [==============================] - 0s 2ms/step - loss: 0.5652 - accuracy: 0.8438\n",
      "Epoch 120/250\n",
      "4/4 [==============================] - 0s 2ms/step - loss: 0.5542 - accuracy: 0.8438\n",
      "Epoch 121/250\n",
      "4/4 [==============================] - 0s 2ms/step - loss: 0.5434 - accuracy: 0.8594\n",
      "Epoch 122/250\n",
      "4/4 [==============================] - 0s 2ms/step - loss: 0.5320 - accuracy: 0.8516\n",
      "Epoch 123/250\n",
      "4/4 [==============================] - 0s 2ms/step - loss: 0.5229 - accuracy: 0.8750\n",
      "Epoch 124/250\n",
      "4/4 [==============================] - 0s 2ms/step - loss: 0.5118 - accuracy: 0.8984\n",
      "Epoch 125/250\n",
      "4/4 [==============================] - 0s 2ms/step - loss: 0.5020 - accuracy: 0.8984\n",
      "Epoch 126/250\n",
      "4/4 [==============================] - 0s 2ms/step - loss: 0.4916 - accuracy: 0.9062\n",
      "Epoch 127/250\n",
      "4/4 [==============================] - 0s 2ms/step - loss: 0.4830 - accuracy: 0.9062\n",
      "Epoch 128/250\n",
      "4/4 [==============================] - 0s 2ms/step - loss: 0.4737 - accuracy: 0.9219\n",
      "Epoch 129/250\n",
      "4/4 [==============================] - 0s 2ms/step - loss: 0.4631 - accuracy: 0.9375\n",
      "Epoch 130/250\n",
      "4/4 [==============================] - 0s 2ms/step - loss: 0.4522 - accuracy: 0.9453\n",
      "Epoch 131/250\n",
      "4/4 [==============================] - 0s 2ms/step - loss: 0.4442 - accuracy: 0.9375\n",
      "Epoch 132/250\n",
      "4/4 [==============================] - 0s 2ms/step - loss: 0.4348 - accuracy: 0.9375\n",
      "Epoch 133/250\n",
      "4/4 [==============================] - 0s 2ms/step - loss: 0.4260 - accuracy: 0.9453\n",
      "Epoch 134/250\n",
      "4/4 [==============================] - 0s 2ms/step - loss: 0.4170 - accuracy: 0.9453\n",
      "Epoch 135/250\n",
      "4/4 [==============================] - 0s 2ms/step - loss: 0.4077 - accuracy: 0.9453\n",
      "Epoch 136/250\n",
      "4/4 [==============================] - 0s 2ms/step - loss: 0.3996 - accuracy: 0.9453\n",
      "Epoch 137/250\n",
      "4/4 [==============================] - 0s 2ms/step - loss: 0.3901 - accuracy: 0.9453\n",
      "Epoch 138/250\n",
      "4/4 [==============================] - 0s 2ms/step - loss: 0.3815 - accuracy: 0.9453\n",
      "Epoch 139/250\n",
      "4/4 [==============================] - 0s 2ms/step - loss: 0.3735 - accuracy: 0.9453\n",
      "Epoch 140/250\n",
      "4/4 [==============================] - 0s 2ms/step - loss: 0.3651 - accuracy: 0.9531\n",
      "Epoch 141/250\n",
      "4/4 [==============================] - 0s 2ms/step - loss: 0.3570 - accuracy: 0.9609\n",
      "Epoch 142/250\n",
      "4/4 [==============================] - 0s 2ms/step - loss: 0.3488 - accuracy: 0.9609\n",
      "Epoch 143/250\n",
      "4/4 [==============================] - 0s 2ms/step - loss: 0.3415 - accuracy: 0.9688\n",
      "Epoch 144/250\n",
      "4/4 [==============================] - 0s 2ms/step - loss: 0.3322 - accuracy: 0.9688\n",
      "Epoch 145/250\n",
      "4/4 [==============================] - 0s 2ms/step - loss: 0.3253 - accuracy: 0.9688\n",
      "Epoch 146/250\n",
      "4/4 [==============================] - 0s 2ms/step - loss: 0.3180 - accuracy: 0.9688\n",
      "Epoch 147/250\n",
      "4/4 [==============================] - 0s 2ms/step - loss: 0.3107 - accuracy: 0.9688\n",
      "Epoch 148/250\n",
      "4/4 [==============================] - 0s 2ms/step - loss: 0.3029 - accuracy: 0.9766\n",
      "Epoch 149/250\n",
      "4/4 [==============================] - 0s 2ms/step - loss: 0.2956 - accuracy: 0.9766\n",
      "Epoch 150/250\n",
      "4/4 [==============================] - 0s 2ms/step - loss: 0.2904 - accuracy: 0.9766\n",
      "Epoch 151/250\n",
      "4/4 [==============================] - 0s 2ms/step - loss: 0.2812 - accuracy: 0.9766\n",
      "Epoch 152/250\n",
      "4/4 [==============================] - 0s 2ms/step - loss: 0.2757 - accuracy: 0.9766\n",
      "Epoch 153/250\n",
      "4/4 [==============================] - 0s 2ms/step - loss: 0.2689 - accuracy: 0.9766\n",
      "Epoch 154/250\n",
      "4/4 [==============================] - 0s 2ms/step - loss: 0.2629 - accuracy: 0.9922\n",
      "Epoch 155/250\n",
      "4/4 [==============================] - 0s 2ms/step - loss: 0.2561 - accuracy: 0.9922\n",
      "Epoch 156/250\n",
      "4/4 [==============================] - 0s 2ms/step - loss: 0.2495 - accuracy: 0.9844\n",
      "Epoch 157/250\n",
      "4/4 [==============================] - 0s 2ms/step - loss: 0.2426 - accuracy: 0.9922\n",
      "Epoch 158/250\n",
      "4/4 [==============================] - 0s 2ms/step - loss: 0.2370 - accuracy: 0.9922\n",
      "Epoch 159/250\n",
      "4/4 [==============================] - 0s 2ms/step - loss: 0.2314 - accuracy: 0.9922\n",
      "Epoch 160/250\n",
      "4/4 [==============================] - 0s 2ms/step - loss: 0.2250 - accuracy: 0.9922\n",
      "Epoch 161/250\n",
      "4/4 [==============================] - 0s 2ms/step - loss: 0.2201 - accuracy: 0.9922\n",
      "Epoch 162/250\n",
      "4/4 [==============================] - 0s 2ms/step - loss: 0.2144 - accuracy: 0.9922\n",
      "Epoch 163/250\n",
      "4/4 [==============================] - 0s 2ms/step - loss: 0.2081 - accuracy: 0.9922\n",
      "Epoch 164/250\n",
      "4/4 [==============================] - 0s 2ms/step - loss: 0.2041 - accuracy: 0.9922\n",
      "Epoch 165/250\n",
      "4/4 [==============================] - 0s 2ms/step - loss: 0.1983 - accuracy: 0.9922\n",
      "Epoch 166/250\n",
      "4/4 [==============================] - 0s 2ms/step - loss: 0.1936 - accuracy: 0.9922\n",
      "Epoch 167/250\n"
     ]
    },
    {
     "name": "stdout",
     "output_type": "stream",
     "text": [
      "4/4 [==============================] - 0s 2ms/step - loss: 0.1884 - accuracy: 0.9922\n",
      "Epoch 168/250\n",
      "4/4 [==============================] - 0s 2ms/step - loss: 0.1836 - accuracy: 0.9922\n",
      "Epoch 169/250\n",
      "4/4 [==============================] - 0s 2ms/step - loss: 0.1794 - accuracy: 0.9922\n",
      "Epoch 170/250\n",
      "4/4 [==============================] - 0s 2ms/step - loss: 0.1751 - accuracy: 0.9922\n",
      "Epoch 171/250\n",
      "4/4 [==============================] - 0s 2ms/step - loss: 0.1704 - accuracy: 0.9922\n",
      "Epoch 172/250\n",
      "4/4 [==============================] - 0s 2ms/step - loss: 0.1665 - accuracy: 0.9922\n",
      "Epoch 173/250\n",
      "4/4 [==============================] - 0s 2ms/step - loss: 0.1619 - accuracy: 0.9922\n",
      "Epoch 174/250\n",
      "4/4 [==============================] - 0s 2ms/step - loss: 0.1581 - accuracy: 0.9922\n",
      "Epoch 175/250\n",
      "4/4 [==============================] - 0s 2ms/step - loss: 0.1539 - accuracy: 0.9922\n",
      "Epoch 176/250\n",
      "4/4 [==============================] - 0s 2ms/step - loss: 0.1500 - accuracy: 0.9922\n",
      "Epoch 177/250\n",
      "4/4 [==============================] - 0s 2ms/step - loss: 0.1462 - accuracy: 0.9922\n",
      "Epoch 178/250\n",
      "4/4 [==============================] - 0s 2ms/step - loss: 0.1432 - accuracy: 1.0000\n",
      "Epoch 179/250\n",
      "4/4 [==============================] - 0s 2ms/step - loss: 0.1391 - accuracy: 0.9922\n",
      "Epoch 180/250\n",
      "4/4 [==============================] - 0s 2ms/step - loss: 0.1356 - accuracy: 0.9922\n",
      "Epoch 181/250\n",
      "4/4 [==============================] - 0s 2ms/step - loss: 0.1323 - accuracy: 1.0000\n",
      "Epoch 182/250\n",
      "4/4 [==============================] - 0s 2ms/step - loss: 0.1289 - accuracy: 1.0000\n",
      "Epoch 183/250\n",
      "4/4 [==============================] - 0s 2ms/step - loss: 0.1258 - accuracy: 1.0000\n",
      "Epoch 184/250\n",
      "4/4 [==============================] - 0s 2ms/step - loss: 0.1228 - accuracy: 1.0000\n",
      "Epoch 185/250\n",
      "4/4 [==============================] - 0s 2ms/step - loss: 0.1195 - accuracy: 1.0000\n",
      "Epoch 186/250\n",
      "4/4 [==============================] - 0s 2ms/step - loss: 0.1169 - accuracy: 1.0000\n",
      "Epoch 187/250\n",
      "4/4 [==============================] - 0s 2ms/step - loss: 0.1138 - accuracy: 1.0000\n",
      "Epoch 188/250\n",
      "4/4 [==============================] - 0s 2ms/step - loss: 0.1115 - accuracy: 1.0000\n",
      "Epoch 189/250\n",
      "4/4 [==============================] - 0s 2ms/step - loss: 0.1087 - accuracy: 1.0000\n",
      "Epoch 190/250\n",
      "4/4 [==============================] - 0s 2ms/step - loss: 0.1059 - accuracy: 1.0000\n",
      "Epoch 191/250\n",
      "4/4 [==============================] - 0s 2ms/step - loss: 0.1036 - accuracy: 1.0000\n",
      "Epoch 192/250\n",
      "4/4 [==============================] - 0s 2ms/step - loss: 0.1010 - accuracy: 1.0000\n",
      "Epoch 193/250\n",
      "4/4 [==============================] - 0s 2ms/step - loss: 0.0992 - accuracy: 1.0000\n",
      "Epoch 194/250\n",
      "4/4 [==============================] - 0s 2ms/step - loss: 0.0962 - accuracy: 1.0000\n",
      "Epoch 195/250\n",
      "4/4 [==============================] - 0s 2ms/step - loss: 0.0944 - accuracy: 1.0000\n",
      "Epoch 196/250\n",
      "4/4 [==============================] - 0s 2ms/step - loss: 0.0915 - accuracy: 1.0000\n",
      "Epoch 197/250\n",
      "4/4 [==============================] - 0s 2ms/step - loss: 0.0895 - accuracy: 1.0000\n",
      "Epoch 198/250\n",
      "4/4 [==============================] - 0s 2ms/step - loss: 0.0871 - accuracy: 1.0000\n",
      "Epoch 199/250\n",
      "4/4 [==============================] - 0s 2ms/step - loss: 0.0855 - accuracy: 1.0000\n",
      "Epoch 200/250\n",
      "4/4 [==============================] - 0s 2ms/step - loss: 0.0831 - accuracy: 1.0000\n",
      "Epoch 201/250\n",
      "4/4 [==============================] - 0s 2ms/step - loss: 0.0814 - accuracy: 1.0000\n",
      "Epoch 202/250\n",
      "4/4 [==============================] - 0s 2ms/step - loss: 0.0795 - accuracy: 1.0000\n",
      "Epoch 203/250\n",
      "4/4 [==============================] - 0s 2ms/step - loss: 0.0776 - accuracy: 1.0000\n",
      "Epoch 204/250\n",
      "4/4 [==============================] - 0s 2ms/step - loss: 0.0761 - accuracy: 1.0000\n",
      "Epoch 205/250\n",
      "4/4 [==============================] - 0s 2ms/step - loss: 0.0741 - accuracy: 1.0000\n",
      "Epoch 206/250\n",
      "4/4 [==============================] - 0s 2ms/step - loss: 0.0725 - accuracy: 1.0000\n",
      "Epoch 207/250\n",
      "4/4 [==============================] - 0s 2ms/step - loss: 0.0708 - accuracy: 1.0000\n",
      "Epoch 208/250\n",
      "4/4 [==============================] - 0s 2ms/step - loss: 0.0695 - accuracy: 1.0000\n",
      "Epoch 209/250\n",
      "4/4 [==============================] - 0s 2ms/step - loss: 0.0679 - accuracy: 1.0000\n",
      "Epoch 210/250\n",
      "4/4 [==============================] - 0s 2ms/step - loss: 0.0666 - accuracy: 1.0000\n",
      "Epoch 211/250\n",
      "4/4 [==============================] - 0s 2ms/step - loss: 0.0649 - accuracy: 1.0000\n",
      "Epoch 212/250\n",
      "4/4 [==============================] - 0s 2ms/step - loss: 0.0636 - accuracy: 1.0000\n",
      "Epoch 213/250\n",
      "4/4 [==============================] - 0s 2ms/step - loss: 0.0621 - accuracy: 1.0000\n",
      "Epoch 214/250\n",
      "4/4 [==============================] - 0s 2ms/step - loss: 0.0607 - accuracy: 1.0000\n",
      "Epoch 215/250\n",
      "4/4 [==============================] - 0s 2ms/step - loss: 0.0593 - accuracy: 1.0000\n",
      "Epoch 216/250\n",
      "4/4 [==============================] - 0s 5ms/step - loss: 0.0580 - accuracy: 1.0000\n",
      "Epoch 217/250\n",
      "4/4 [==============================] - 0s 2ms/step - loss: 0.0567 - accuracy: 1.0000\n",
      "Epoch 218/250\n",
      "4/4 [==============================] - 0s 2ms/step - loss: 0.0558 - accuracy: 1.0000\n",
      "Epoch 219/250\n",
      "4/4 [==============================] - 0s 2ms/step - loss: 0.0544 - accuracy: 1.0000\n",
      "Epoch 220/250\n",
      "4/4 [==============================] - 0s 2ms/step - loss: 0.0532 - accuracy: 1.0000\n",
      "Epoch 221/250\n",
      "4/4 [==============================] - 0s 2ms/step - loss: 0.0521 - accuracy: 1.0000\n",
      "Epoch 222/250\n",
      "4/4 [==============================] - 0s 2ms/step - loss: 0.0512 - accuracy: 1.0000\n",
      "Epoch 223/250\n",
      "4/4 [==============================] - 0s 2ms/step - loss: 0.0500 - accuracy: 1.0000\n",
      "Epoch 224/250\n",
      "4/4 [==============================] - 0s 2ms/step - loss: 0.0490 - accuracy: 1.0000\n",
      "Epoch 225/250\n",
      "4/4 [==============================] - 0s 2ms/step - loss: 0.0482 - accuracy: 1.0000\n",
      "Epoch 226/250\n",
      "4/4 [==============================] - 0s 2ms/step - loss: 0.0474 - accuracy: 1.0000\n",
      "Epoch 227/250\n",
      "4/4 [==============================] - 0s 2ms/step - loss: 0.0462 - accuracy: 1.0000\n",
      "Epoch 228/250\n",
      "4/4 [==============================] - 0s 2ms/step - loss: 0.0454 - accuracy: 1.0000\n",
      "Epoch 229/250\n",
      "4/4 [==============================] - 0s 2ms/step - loss: 0.0447 - accuracy: 1.0000\n",
      "Epoch 230/250\n",
      "4/4 [==============================] - 0s 2ms/step - loss: 0.0434 - accuracy: 1.0000\n",
      "Epoch 231/250\n",
      "4/4 [==============================] - 0s 2ms/step - loss: 0.0428 - accuracy: 1.0000\n",
      "Epoch 232/250\n",
      "4/4 [==============================] - 0s 2ms/step - loss: 0.0420 - accuracy: 1.0000\n",
      "Epoch 233/250\n",
      "4/4 [==============================] - 0s 2ms/step - loss: 0.0411 - accuracy: 1.0000\n",
      "Epoch 234/250\n",
      "4/4 [==============================] - 0s 2ms/step - loss: 0.0403 - accuracy: 1.0000\n",
      "Epoch 235/250\n",
      "4/4 [==============================] - 0s 2ms/step - loss: 0.0395 - accuracy: 1.0000\n",
      "Epoch 236/250\n",
      "4/4 [==============================] - 0s 2ms/step - loss: 0.0388 - accuracy: 1.0000\n",
      "Epoch 237/250\n",
      "4/4 [==============================] - 0s 2ms/step - loss: 0.0381 - accuracy: 1.0000\n",
      "Epoch 238/250\n",
      "4/4 [==============================] - 0s 2ms/step - loss: 0.0374 - accuracy: 1.0000\n",
      "Epoch 239/250\n",
      "4/4 [==============================] - 0s 2ms/step - loss: 0.0367 - accuracy: 1.0000\n",
      "Epoch 240/250\n",
      "4/4 [==============================] - 0s 2ms/step - loss: 0.0361 - accuracy: 1.0000\n",
      "Epoch 241/250\n",
      "4/4 [==============================] - 0s 2ms/step - loss: 0.0355 - accuracy: 1.0000\n",
      "Epoch 242/250\n",
      "4/4 [==============================] - 0s 2ms/step - loss: 0.0347 - accuracy: 1.0000\n",
      "Epoch 243/250\n",
      "4/4 [==============================] - 0s 2ms/step - loss: 0.0342 - accuracy: 1.0000\n",
      "Epoch 244/250\n",
      "4/4 [==============================] - 0s 2ms/step - loss: 0.0334 - accuracy: 1.0000\n",
      "Epoch 245/250\n",
      "4/4 [==============================] - 0s 2ms/step - loss: 0.0329 - accuracy: 1.0000\n",
      "Epoch 246/250\n",
      "4/4 [==============================] - 0s 2ms/step - loss: 0.0324 - accuracy: 1.0000\n",
      "Epoch 247/250\n",
      "4/4 [==============================] - 0s 2ms/step - loss: 0.0319 - accuracy: 1.0000\n",
      "Epoch 248/250\n",
      "4/4 [==============================] - 0s 2ms/step - loss: 0.0312 - accuracy: 1.0000\n",
      "Epoch 249/250\n"
     ]
    },
    {
     "name": "stdout",
     "output_type": "stream",
     "text": [
      "4/4 [==============================] - 0s 2ms/step - loss: 0.0307 - accuracy: 1.0000\n",
      "Epoch 250/250\n",
      "4/4 [==============================] - 0s 2ms/step - loss: 0.0302 - accuracy: 1.0000\n"
     ]
    }
   ],
   "source": [
    "epochs = 250\n",
    "history = mdlBot.fit(padded_sequences, np.array(trg_lbl), epochs=epochs)"
   ]
  },
  {
   "cell_type": "code",
   "execution_count": 8,
   "id": "3d35d694",
   "metadata": {},
   "outputs": [
    {
     "name": "stdout",
     "output_type": "stream",
     "text": [
      "==================================================================================================\n",
      "Hi!! I am GreatLearning assistant. Ask your queries to me\n",
      "Type quit to to stop conversation\n",
      "==================================================================================================\n",
      "User: \n",
      "how are you\n",
      "1/1 [==============================] - 0s 78ms/step\n",
      "GreatLearning Assistant:  Hello! how can i help you ?\n",
      "User: \n",
      "explain me how olympus works\n",
      "1/1 [==============================] - 0s 20ms/step\n",
      "GreatLearning Assistant:  Link: Olympus wiki\n",
      "User: \n",
      "i am not able to understand svm\n",
      "1/1 [==============================] - 0s 19ms/step\n",
      "GreatLearning Assistant:  Link: Machine Learning wiki \n",
      "User: \n",
      "unable to understand deep learning\n",
      "1/1 [==============================] - 0s 21ms/step\n",
      "GreatLearning Assistant:  Link: Neural Nets wiki\n",
      "User: \n",
      "what is your name\n",
      "1/1 [==============================] - 0s 19ms/step\n",
      "GreatLearning Assistant:  I am your virtual learning assistant\n",
      "User: \n",
      "you are stupid\n",
      "1/1 [==============================] - 0s 21ms/step\n",
      "GreatLearning Assistant:  Please use respectful words\n",
      "User: \n",
      "my problem is not solved\n",
      "1/1 [==============================] - 0s 19ms/step\n",
      "GreatLearning Assistant:  Tarnsferring the request to your PM\n",
      "User: \n",
      "quit\n"
     ]
    }
   ],
   "source": [
    "import random\n",
    "\n",
    "# ChatBot\n",
    "def chat(mdlBot,Corpus,lbl_edr,tokenizer):\n",
    "\n",
    "    mdlBot = mdlBot\n",
    "    tokenizer = tokenizer\n",
    "    lbl_edr = lbl_edr\n",
    "\n",
    "    # parameters\n",
    "    max_len = 20\n",
    "    \n",
    "    while True:\n",
    "        print(\"User: \")\n",
    "        # Part B - Q2 - Accept dynamic text based questions from the user. Reply back with relevant answer from the designed corpus.\n",
    "        inp = input()\n",
    "        # Part B - Q3 - End the chat session only if the user requests to end else ask what the user is looking for. Loop continues till the user asks to end it.\n",
    "        if inp.lower() in [\"quit\"]:\n",
    "            break\n",
    "\n",
    "        result = mdlBot.predict(keras.preprocessing.sequence.pad_sequences(tokenizer.texts_to_sequences([inp]),\n",
    "                                             truncating='post', maxlen=max_len))\n",
    "        tag = lbl_edr.inverse_transform([np.argmax(result)])\n",
    "\n",
    "        for i in Corpus['intents']:\n",
    "            if i['tag'] == tag:\n",
    "                print(\"GreatLearning Assistant: \" , np.random.choice(i['responses']))\n",
    "\n",
    "\n",
    "print(\"==================================================================================================\")\n",
    "print(\"Hi!! I am GreatLearning assistant. Ask your queries to me\");\n",
    "print(\"Type quit to to stop conversation\" )\n",
    "print(\"==================================================================================================\")\n",
    "#Part B - Q1 - Start chat session with greetings and ask what the user is looking for.\n",
    "chat(mdlBot,Corpus,lbl_edr,tokenizer)\n"
   ]
  },
  {
   "cell_type": "code",
   "execution_count": null,
   "id": "23b35d3d",
   "metadata": {},
   "outputs": [],
   "source": []
  }
 ],
 "metadata": {
  "kernelspec": {
   "display_name": "Python 3 (ipykernel)",
   "language": "python",
   "name": "python3"
  },
  "language_info": {
   "codemirror_mode": {
    "name": "ipython",
    "version": 3
   },
   "file_extension": ".py",
   "mimetype": "text/x-python",
   "name": "python",
   "nbconvert_exporter": "python",
   "pygments_lexer": "ipython3",
   "version": "3.9.13"
  }
 },
 "nbformat": 4,
 "nbformat_minor": 5
}
